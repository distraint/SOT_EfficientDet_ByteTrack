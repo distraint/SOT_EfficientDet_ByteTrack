{
  "cells": [
    {
      "cell_type": "markdown",
      "metadata": {
        "id": "mTmiQ-S3Hpxf"
      },
      "source": [
        "# Настройка окружения"
      ]
    },
    {
      "cell_type": "code",
      "execution_count": null,
      "metadata": {
        "colab": {
          "base_uri": "https://localhost:8080/",
          "height": 1000
        },
        "collapsed": true,
        "id": "lpGx2oY5HWlN",
        "outputId": "ccf868ad-d54e-4a54-c1ce-18726d703d14"
      },
      "outputs": [
        {
          "output_type": "stream",
          "name": "stdout",
          "text": [
            "Requirement already satisfied: opencv-python in /usr/local/lib/python3.10/dist-packages (4.10.0.84)\n",
            "Requirement already satisfied: torch in /usr/local/lib/python3.10/dist-packages (2.3.1+cu121)\n",
            "Requirement already satisfied: numpy>=1.21.2 in /usr/local/lib/python3.10/dist-packages (from opencv-python) (1.26.4)\n",
            "Requirement already satisfied: filelock in /usr/local/lib/python3.10/dist-packages (from torch) (3.15.4)\n",
            "Requirement already satisfied: typing-extensions>=4.8.0 in /usr/local/lib/python3.10/dist-packages (from torch) (4.12.2)\n",
            "Requirement already satisfied: sympy in /usr/local/lib/python3.10/dist-packages (from torch) (1.13.1)\n",
            "Requirement already satisfied: networkx in /usr/local/lib/python3.10/dist-packages (from torch) (3.3)\n",
            "Requirement already satisfied: jinja2 in /usr/local/lib/python3.10/dist-packages (from torch) (3.1.4)\n",
            "Requirement already satisfied: fsspec in /usr/local/lib/python3.10/dist-packages (from torch) (2024.6.1)\n",
            "Collecting nvidia-cuda-nvrtc-cu12==12.1.105 (from torch)\n",
            "  Using cached nvidia_cuda_nvrtc_cu12-12.1.105-py3-none-manylinux1_x86_64.whl.metadata (1.5 kB)\n",
            "Collecting nvidia-cuda-runtime-cu12==12.1.105 (from torch)\n",
            "  Using cached nvidia_cuda_runtime_cu12-12.1.105-py3-none-manylinux1_x86_64.whl.metadata (1.5 kB)\n",
            "Collecting nvidia-cuda-cupti-cu12==12.1.105 (from torch)\n",
            "  Using cached nvidia_cuda_cupti_cu12-12.1.105-py3-none-manylinux1_x86_64.whl.metadata (1.6 kB)\n",
            "Collecting nvidia-cudnn-cu12==8.9.2.26 (from torch)\n",
            "  Using cached nvidia_cudnn_cu12-8.9.2.26-py3-none-manylinux1_x86_64.whl.metadata (1.6 kB)\n",
            "Collecting nvidia-cublas-cu12==12.1.3.1 (from torch)\n",
            "  Using cached nvidia_cublas_cu12-12.1.3.1-py3-none-manylinux1_x86_64.whl.metadata (1.5 kB)\n",
            "Collecting nvidia-cufft-cu12==11.0.2.54 (from torch)\n",
            "  Using cached nvidia_cufft_cu12-11.0.2.54-py3-none-manylinux1_x86_64.whl.metadata (1.5 kB)\n",
            "Collecting nvidia-curand-cu12==10.3.2.106 (from torch)\n",
            "  Using cached nvidia_curand_cu12-10.3.2.106-py3-none-manylinux1_x86_64.whl.metadata (1.5 kB)\n",
            "Collecting nvidia-cusolver-cu12==11.4.5.107 (from torch)\n",
            "  Using cached nvidia_cusolver_cu12-11.4.5.107-py3-none-manylinux1_x86_64.whl.metadata (1.6 kB)\n",
            "Collecting nvidia-cusparse-cu12==12.1.0.106 (from torch)\n",
            "  Using cached nvidia_cusparse_cu12-12.1.0.106-py3-none-manylinux1_x86_64.whl.metadata (1.6 kB)\n",
            "Collecting nvidia-nccl-cu12==2.20.5 (from torch)\n",
            "  Using cached nvidia_nccl_cu12-2.20.5-py3-none-manylinux2014_x86_64.whl.metadata (1.8 kB)\n",
            "Collecting nvidia-nvtx-cu12==12.1.105 (from torch)\n",
            "  Using cached nvidia_nvtx_cu12-12.1.105-py3-none-manylinux1_x86_64.whl.metadata (1.7 kB)\n",
            "Requirement already satisfied: triton==2.3.1 in /usr/local/lib/python3.10/dist-packages (from torch) (2.3.1)\n",
            "Collecting nvidia-nvjitlink-cu12 (from nvidia-cusolver-cu12==11.4.5.107->torch)\n",
            "  Downloading nvidia_nvjitlink_cu12-12.6.20-py3-none-manylinux2014_x86_64.whl.metadata (1.5 kB)\n",
            "Requirement already satisfied: MarkupSafe>=2.0 in /usr/local/lib/python3.10/dist-packages (from jinja2->torch) (2.1.5)\n",
            "Requirement already satisfied: mpmath<1.4,>=1.1.0 in /usr/local/lib/python3.10/dist-packages (from sympy->torch) (1.3.0)\n",
            "Using cached nvidia_cublas_cu12-12.1.3.1-py3-none-manylinux1_x86_64.whl (410.6 MB)\n",
            "Using cached nvidia_cuda_cupti_cu12-12.1.105-py3-none-manylinux1_x86_64.whl (14.1 MB)\n",
            "Using cached nvidia_cuda_nvrtc_cu12-12.1.105-py3-none-manylinux1_x86_64.whl (23.7 MB)\n",
            "Using cached nvidia_cuda_runtime_cu12-12.1.105-py3-none-manylinux1_x86_64.whl (823 kB)\n",
            "Using cached nvidia_cudnn_cu12-8.9.2.26-py3-none-manylinux1_x86_64.whl (731.7 MB)\n",
            "Using cached nvidia_cufft_cu12-11.0.2.54-py3-none-manylinux1_x86_64.whl (121.6 MB)\n",
            "Using cached nvidia_curand_cu12-10.3.2.106-py3-none-manylinux1_x86_64.whl (56.5 MB)\n",
            "Using cached nvidia_cusolver_cu12-11.4.5.107-py3-none-manylinux1_x86_64.whl (124.2 MB)\n",
            "Using cached nvidia_cusparse_cu12-12.1.0.106-py3-none-manylinux1_x86_64.whl (196.0 MB)\n",
            "Using cached nvidia_nccl_cu12-2.20.5-py3-none-manylinux2014_x86_64.whl (176.2 MB)\n",
            "Using cached nvidia_nvtx_cu12-12.1.105-py3-none-manylinux1_x86_64.whl (99 kB)\n",
            "Downloading nvidia_nvjitlink_cu12-12.6.20-py3-none-manylinux2014_x86_64.whl (19.7 MB)\n",
            "\u001b[2K   \u001b[90m━━━━━━━━━━━━━━━━━━━━━━━━━━━━━━━━━━━━━━━━\u001b[0m \u001b[32m19.7/19.7 MB\u001b[0m \u001b[31m20.6 MB/s\u001b[0m eta \u001b[36m0:00:00\u001b[0m\n",
            "\u001b[?25hInstalling collected packages: nvidia-nvtx-cu12, nvidia-nvjitlink-cu12, nvidia-nccl-cu12, nvidia-curand-cu12, nvidia-cufft-cu12, nvidia-cuda-runtime-cu12, nvidia-cuda-nvrtc-cu12, nvidia-cuda-cupti-cu12, nvidia-cublas-cu12, nvidia-cusparse-cu12, nvidia-cudnn-cu12, nvidia-cusolver-cu12\n",
            "Successfully installed nvidia-cublas-cu12-12.1.3.1 nvidia-cuda-cupti-cu12-12.1.105 nvidia-cuda-nvrtc-cu12-12.1.105 nvidia-cuda-runtime-cu12-12.1.105 nvidia-cudnn-cu12-8.9.2.26 nvidia-cufft-cu12-11.0.2.54 nvidia-curand-cu12-10.3.2.106 nvidia-cusolver-cu12-11.4.5.107 nvidia-cusparse-cu12-12.1.0.106 nvidia-nccl-cu12-2.20.5 nvidia-nvjitlink-cu12-12.6.20 nvidia-nvtx-cu12-12.1.105\n",
            "Collecting cjm_byte_track\n",
            "  Downloading cjm_byte_track-0.0.6-py3-none-any.whl.metadata (5.0 kB)\n",
            "Requirement already satisfied: numpy in /usr/local/lib/python3.10/dist-packages (from cjm_byte_track) (1.26.4)\n",
            "Requirement already satisfied: scipy in /usr/local/lib/python3.10/dist-packages (from cjm_byte_track) (1.13.1)\n",
            "Downloading cjm_byte_track-0.0.6-py3-none-any.whl (20 kB)\n",
            "Installing collected packages: cjm_byte_track\n",
            "Successfully installed cjm_byte_track-0.0.6\n",
            "Collecting effdet\n",
            "  Downloading effdet-0.4.1-py3-none-any.whl.metadata (33 kB)\n",
            "Requirement already satisfied: torch>=1.12.1 in /usr/local/lib/python3.10/dist-packages (from effdet) (2.3.1+cu121)\n",
            "Requirement already satisfied: torchvision in /usr/local/lib/python3.10/dist-packages (from effdet) (0.18.1+cu121)\n",
            "Collecting timm>=0.9.2 (from effdet)\n",
            "  Downloading timm-1.0.8-py3-none-any.whl.metadata (53 kB)\n",
            "\u001b[2K     \u001b[90m━━━━━━━━━━━━━━━━━━━━━━━━━━━━━━━━━━━━━━━━\u001b[0m \u001b[32m53.8/53.8 kB\u001b[0m \u001b[31m4.9 MB/s\u001b[0m eta \u001b[36m0:00:00\u001b[0m\n",
            "\u001b[?25hRequirement already satisfied: pycocotools>=2.0.2 in /usr/local/lib/python3.10/dist-packages (from effdet) (2.0.8)\n",
            "Collecting omegaconf>=2.0 (from effdet)\n",
            "  Downloading omegaconf-2.3.0-py3-none-any.whl.metadata (3.9 kB)\n",
            "Collecting antlr4-python3-runtime==4.9.* (from omegaconf>=2.0->effdet)\n",
            "  Downloading antlr4-python3-runtime-4.9.3.tar.gz (117 kB)\n",
            "\u001b[2K     \u001b[90m━━━━━━━━━━━━━━━━━━━━━━━━━━━━━━━━━━━━━━━━\u001b[0m \u001b[32m117.0/117.0 kB\u001b[0m \u001b[31m11.7 MB/s\u001b[0m eta \u001b[36m0:00:00\u001b[0m\n",
            "\u001b[?25h  Preparing metadata (setup.py) ... \u001b[?25l\u001b[?25hdone\n",
            "Requirement already satisfied: PyYAML>=5.1.0 in /usr/local/lib/python3.10/dist-packages (from omegaconf>=2.0->effdet) (6.0.1)\n",
            "Requirement already satisfied: matplotlib>=2.1.0 in /usr/local/lib/python3.10/dist-packages (from pycocotools>=2.0.2->effdet) (3.7.1)\n",
            "Requirement already satisfied: numpy in /usr/local/lib/python3.10/dist-packages (from pycocotools>=2.0.2->effdet) (1.26.4)\n",
            "Requirement already satisfied: huggingface_hub in /usr/local/lib/python3.10/dist-packages (from timm>=0.9.2->effdet) (0.23.5)\n",
            "Requirement already satisfied: safetensors in /usr/local/lib/python3.10/dist-packages (from timm>=0.9.2->effdet) (0.4.3)\n",
            "Requirement already satisfied: filelock in /usr/local/lib/python3.10/dist-packages (from torch>=1.12.1->effdet) (3.15.4)\n",
            "Requirement already satisfied: typing-extensions>=4.8.0 in /usr/local/lib/python3.10/dist-packages (from torch>=1.12.1->effdet) (4.12.2)\n",
            "Requirement already satisfied: sympy in /usr/local/lib/python3.10/dist-packages (from torch>=1.12.1->effdet) (1.13.1)\n",
            "Requirement already satisfied: networkx in /usr/local/lib/python3.10/dist-packages (from torch>=1.12.1->effdet) (3.3)\n",
            "Requirement already satisfied: jinja2 in /usr/local/lib/python3.10/dist-packages (from torch>=1.12.1->effdet) (3.1.4)\n",
            "Requirement already satisfied: fsspec in /usr/local/lib/python3.10/dist-packages (from torch>=1.12.1->effdet) (2024.6.1)\n",
            "Requirement already satisfied: nvidia-cuda-nvrtc-cu12==12.1.105 in /usr/local/lib/python3.10/dist-packages (from torch>=1.12.1->effdet) (12.1.105)\n",
            "Requirement already satisfied: nvidia-cuda-runtime-cu12==12.1.105 in /usr/local/lib/python3.10/dist-packages (from torch>=1.12.1->effdet) (12.1.105)\n",
            "Requirement already satisfied: nvidia-cuda-cupti-cu12==12.1.105 in /usr/local/lib/python3.10/dist-packages (from torch>=1.12.1->effdet) (12.1.105)\n",
            "Requirement already satisfied: nvidia-cudnn-cu12==8.9.2.26 in /usr/local/lib/python3.10/dist-packages (from torch>=1.12.1->effdet) (8.9.2.26)\n",
            "Requirement already satisfied: nvidia-cublas-cu12==12.1.3.1 in /usr/local/lib/python3.10/dist-packages (from torch>=1.12.1->effdet) (12.1.3.1)\n",
            "Requirement already satisfied: nvidia-cufft-cu12==11.0.2.54 in /usr/local/lib/python3.10/dist-packages (from torch>=1.12.1->effdet) (11.0.2.54)\n",
            "Requirement already satisfied: nvidia-curand-cu12==10.3.2.106 in /usr/local/lib/python3.10/dist-packages (from torch>=1.12.1->effdet) (10.3.2.106)\n",
            "Requirement already satisfied: nvidia-cusolver-cu12==11.4.5.107 in /usr/local/lib/python3.10/dist-packages (from torch>=1.12.1->effdet) (11.4.5.107)\n",
            "Requirement already satisfied: nvidia-cusparse-cu12==12.1.0.106 in /usr/local/lib/python3.10/dist-packages (from torch>=1.12.1->effdet) (12.1.0.106)\n",
            "Requirement already satisfied: nvidia-nccl-cu12==2.20.5 in /usr/local/lib/python3.10/dist-packages (from torch>=1.12.1->effdet) (2.20.5)\n",
            "Requirement already satisfied: nvidia-nvtx-cu12==12.1.105 in /usr/local/lib/python3.10/dist-packages (from torch>=1.12.1->effdet) (12.1.105)\n",
            "Requirement already satisfied: triton==2.3.1 in /usr/local/lib/python3.10/dist-packages (from torch>=1.12.1->effdet) (2.3.1)\n",
            "Requirement already satisfied: nvidia-nvjitlink-cu12 in /usr/local/lib/python3.10/dist-packages (from nvidia-cusolver-cu12==11.4.5.107->torch>=1.12.1->effdet) (12.6.20)\n",
            "Requirement already satisfied: pillow!=8.3.*,>=5.3.0 in /usr/local/lib/python3.10/dist-packages (from torchvision->effdet) (9.4.0)\n",
            "Requirement already satisfied: contourpy>=1.0.1 in /usr/local/lib/python3.10/dist-packages (from matplotlib>=2.1.0->pycocotools>=2.0.2->effdet) (1.2.1)\n",
            "Requirement already satisfied: cycler>=0.10 in /usr/local/lib/python3.10/dist-packages (from matplotlib>=2.1.0->pycocotools>=2.0.2->effdet) (0.12.1)\n",
            "Requirement already satisfied: fonttools>=4.22.0 in /usr/local/lib/python3.10/dist-packages (from matplotlib>=2.1.0->pycocotools>=2.0.2->effdet) (4.53.1)\n",
            "Requirement already satisfied: kiwisolver>=1.0.1 in /usr/local/lib/python3.10/dist-packages (from matplotlib>=2.1.0->pycocotools>=2.0.2->effdet) (1.4.5)\n",
            "Requirement already satisfied: packaging>=20.0 in /usr/local/lib/python3.10/dist-packages (from matplotlib>=2.1.0->pycocotools>=2.0.2->effdet) (24.1)\n",
            "Requirement already satisfied: pyparsing>=2.3.1 in /usr/local/lib/python3.10/dist-packages (from matplotlib>=2.1.0->pycocotools>=2.0.2->effdet) (3.1.2)\n",
            "Requirement already satisfied: python-dateutil>=2.7 in /usr/local/lib/python3.10/dist-packages (from matplotlib>=2.1.0->pycocotools>=2.0.2->effdet) (2.8.2)\n",
            "Requirement already satisfied: requests in /usr/local/lib/python3.10/dist-packages (from huggingface_hub->timm>=0.9.2->effdet) (2.31.0)\n",
            "Requirement already satisfied: tqdm>=4.42.1 in /usr/local/lib/python3.10/dist-packages (from huggingface_hub->timm>=0.9.2->effdet) (4.66.4)\n",
            "Requirement already satisfied: MarkupSafe>=2.0 in /usr/local/lib/python3.10/dist-packages (from jinja2->torch>=1.12.1->effdet) (2.1.5)\n",
            "Requirement already satisfied: mpmath<1.4,>=1.1.0 in /usr/local/lib/python3.10/dist-packages (from sympy->torch>=1.12.1->effdet) (1.3.0)\n",
            "Requirement already satisfied: six>=1.5 in /usr/local/lib/python3.10/dist-packages (from python-dateutil>=2.7->matplotlib>=2.1.0->pycocotools>=2.0.2->effdet) (1.16.0)\n",
            "Requirement already satisfied: charset-normalizer<4,>=2 in /usr/local/lib/python3.10/dist-packages (from requests->huggingface_hub->timm>=0.9.2->effdet) (3.3.2)\n",
            "Requirement already satisfied: idna<4,>=2.5 in /usr/local/lib/python3.10/dist-packages (from requests->huggingface_hub->timm>=0.9.2->effdet) (3.7)\n",
            "Requirement already satisfied: urllib3<3,>=1.21.1 in /usr/local/lib/python3.10/dist-packages (from requests->huggingface_hub->timm>=0.9.2->effdet) (2.0.7)\n",
            "Requirement already satisfied: certifi>=2017.4.17 in /usr/local/lib/python3.10/dist-packages (from requests->huggingface_hub->timm>=0.9.2->effdet) (2024.7.4)\n",
            "Downloading effdet-0.4.1-py3-none-any.whl (112 kB)\n",
            "\u001b[2K   \u001b[90m━━━━━━━━━━━━━━━━━━━━━━━━━━━━━━━━━━━━━━━━\u001b[0m \u001b[32m112.5/112.5 kB\u001b[0m \u001b[31m9.1 MB/s\u001b[0m eta \u001b[36m0:00:00\u001b[0m\n",
            "\u001b[?25hDownloading omegaconf-2.3.0-py3-none-any.whl (79 kB)\n",
            "\u001b[2K   \u001b[90m━━━━━━━━━━━━━━━━━━━━━━━━━━━━━━━━━━━━━━━━\u001b[0m \u001b[32m79.5/79.5 kB\u001b[0m \u001b[31m7.6 MB/s\u001b[0m eta \u001b[36m0:00:00\u001b[0m\n",
            "\u001b[?25hDownloading timm-1.0.8-py3-none-any.whl (2.3 MB)\n",
            "\u001b[2K   \u001b[90m━━━━━━━━━━━━━━━━━━━━━━━━━━━━━━━━━━━━━━━━\u001b[0m \u001b[32m2.3/2.3 MB\u001b[0m \u001b[31m81.0 MB/s\u001b[0m eta \u001b[36m0:00:00\u001b[0m\n",
            "\u001b[?25hBuilding wheels for collected packages: antlr4-python3-runtime\n",
            "  Building wheel for antlr4-python3-runtime (setup.py) ... \u001b[?25l\u001b[?25hdone\n",
            "  Created wheel for antlr4-python3-runtime: filename=antlr4_python3_runtime-4.9.3-py3-none-any.whl size=144552 sha256=5543b16bbb8bb032cfa98261225df8e06580797e7ec460a97eb680a9a1dff31e\n",
            "  Stored in directory: /root/.cache/pip/wheels/12/93/dd/1f6a127edc45659556564c5730f6d4e300888f4bca2d4c5a88\n",
            "Successfully built antlr4-python3-runtime\n",
            "Installing collected packages: antlr4-python3-runtime, omegaconf, timm, effdet\n",
            "Successfully installed antlr4-python3-runtime-4.9.3 effdet-0.4.1 omegaconf-2.3.0 timm-1.0.8\n"
          ]
        },
        {
          "output_type": "display_data",
          "data": {
            "application/vnd.colab-display-data+json": {
              "pip_warning": {
                "packages": [
                  "pydevd_plugins"
                ]
              },
              "id": "19e6dca3c52645338feda3c15bcd005d"
            }
          },
          "metadata": {}
        },
        {
          "output_type": "stream",
          "name": "stdout",
          "text": [
            "Requirement already satisfied: tabulate in /usr/local/lib/python3.10/dist-packages (0.9.0)\n",
            "Requirement already satisfied: tqdm in /usr/local/lib/python3.10/dist-packages (4.66.4)\n"
          ]
        }
      ],
      "source": [
        "# библиотеки OpenCV и PyTorch\n",
        "!pip install opencv-python torch\n",
        "\n",
        "# библиотека cjm_byte_track для реализации алгоритма ByteTrack\n",
        "!pip install cjm_byte_track\n",
        "\n",
        "# библиотека effdet, которая предоставляет модели EfficientDet\n",
        "!pip install effdet\n",
        "\n",
        "# библиотека tabulate для форматирования данных в виде таблиц\n",
        "!pip install tabulate\n",
        "\n",
        "# библиотека tqdm для отображения прогресс-баров\n",
        "!pip install tqdm"
      ]
    },
    {
      "cell_type": "markdown",
      "metadata": {
        "id": "DtbumjhBH8dp"
      },
      "source": [
        "# Импорт модулей"
      ]
    },
    {
      "cell_type": "code",
      "execution_count": null,
      "metadata": {
        "id": "H4aCYlKcHk0g"
      },
      "outputs": [],
      "source": [
        "import cv2\n",
        "import numpy as np\n",
        "import torch\n",
        "from effdet import get_efficientdet_config, EfficientDet, DetBenchPredict\n",
        "from effdet.efficientdet import HeadNet\n",
        "from cjm_byte_track.core import BYTETracker\n",
        "from tabulate import tabulate\n",
        "import time\n",
        "from tqdm import tqdm"
      ]
    },
    {
      "cell_type": "markdown",
      "metadata": {
        "id": "GB4gdkfgIJc8"
      },
      "source": [
        "# Класс отслеживания объекта"
      ]
    },
    {
      "cell_type": "code",
      "execution_count": null,
      "metadata": {
        "id": "Lt-44kHrH1yO"
      },
      "outputs": [],
      "source": [
        "class CarTracker:\n",
        "    def __init__(self, model_name, weights_url, device='cpu'):\n",
        "        # Инициализация параметров трекера\n",
        "        self.device = device # Выбор устройства\n",
        "        self.model_name = model_name # Имя модели\n",
        "        self.scores_per_frame = []  # Оценки детекций для каждого кадра\n",
        "        self.processing_times = []  # Время обработки каждого кадра\n",
        "        self.track_id_frames = {}  # Словарь для хранения кадров, на которых был обнаружен каждый трек\n",
        "        self.current_frame_number = 0  # Номер текущего кадра\n",
        "\n",
        "        # Задание конфигурации модели EfficientDet\n",
        "        config = get_efficientdet_config(model_name)\n",
        "        config.update({'num_classes': 90})\n",
        "        net = EfficientDet(config, pretrained_backbone=True)\n",
        "        net.class_net = HeadNet(config, num_outputs=config.num_classes)\n",
        "\n",
        "        # Загрузка весов модели\n",
        "        checkpoint = torch.hub.load_state_dict_from_url(weights_url)\n",
        "        net.load_state_dict(checkpoint)\n",
        "\n",
        "        # Инициализация модели для предсказаний\n",
        "        self.model = DetBenchPredict(net).to(self.device).eval()\n",
        "        # Инициализация трекера BYTETracker\n",
        "        self.tracker = BYTETracker()\n",
        "\n",
        "    def transform(self, image):\n",
        "        # Получение оригинальных размеров изображения и их преобразование под вход модели с сохранением масштаба\n",
        "        orig_h, orig_w = image.shape[:2]\n",
        "        image_size = self.model.config.image_size\n",
        "        scale = min(image_size[1] / orig_w, image_size[0] / orig_h)\n",
        "        resized_w, resized_h = int(orig_w * scale), int(orig_h * scale)\n",
        "\n",
        "        # Изменение размера изображения и вычисление отступов\n",
        "        image = cv2.resize(image, (resized_w, resized_h))\n",
        "        pad_top = (image_size[0] - resized_h) // 2\n",
        "        pad_left = (image_size[1] - resized_w) // 2\n",
        "        pad_bottom = image_size[0] - resized_h - pad_top\n",
        "        pad_right = image_size[1] - resized_w - pad_left\n",
        "\n",
        "        # Добавление отступов и нормализация изображения\n",
        "        image = np.pad(image, ((pad_top, pad_bottom), (pad_left, pad_right), (0, 0)), mode='constant')\n",
        "        image = image.astype(np.float32) / 255.0\n",
        "        new_image = torch.from_numpy(image).permute(2, 0, 1).float()\n",
        "\n",
        "        return new_image, scale, pad_top, pad_left\n",
        "\n",
        "    def detect(self, image):\n",
        "        # Запуск таймера для измерения времени обработки\n",
        "        start_time = time.time()\n",
        "\n",
        "        # Преобразование изображения\n",
        "        transformed_image, scale, pad_top, pad_left = self.transform(image)\n",
        "        transformed_image = transformed_image.unsqueeze(0).to(self.device)\n",
        "\n",
        "        # Выполнение предсказаний\n",
        "        with torch.no_grad():\n",
        "            outputs = self.model(transformed_image)[0]\n",
        "\n",
        "            # Извлечение рамок, оценок и меток классов\n",
        "            bboxes, scores, labels = outputs[:, :4], outputs[:, 4], outputs[:, 5].int()\n",
        "            car_class_id, score_threshold = 3, 0.5 # Установка класса \"машина\" и порога для фильтрации оценок\n",
        "            valid_detections = (labels == car_class_id) & (scores > score_threshold) # Получение соответствующих детекций\n",
        "\n",
        "            if valid_detections.any():\n",
        "                bboxes, scores = bboxes[valid_detections], scores[valid_detections]\n",
        "\n",
        "                max_score_idx = scores.argmax() # Находим индекс детекции с максимальной оценкой\n",
        "                detections = torch.cat((bboxes[max_score_idx].unsqueeze(0), # Создаем для нее тензор с рамкой и оценкой\n",
        "                                        scores[max_score_idx].unsqueeze(0).unsqueeze(0)), dim=1)\n",
        "\n",
        "                orig_h, orig_w = image.shape[:2]\n",
        "                # Преобразуем координаты рамок из масштаба модели в оригинальный масштаб изображения\n",
        "                detections[:, [0, 2]] = (detections[:, [0, 2]] - pad_left) / scale\n",
        "                detections[:, [1, 3]] = (detections[:, [1, 3]] - pad_top) / scale\n",
        "\n",
        "                # Фильтруем рамки, чтобы они оставались в пределах изображения\n",
        "                detections = detections[(detections[:, 0] >= 0) & (detections[:, 1] >= 0) &\n",
        "                                        (detections[:, 2] <= orig_w) & (detections[:, 3] <= orig_h)]\n",
        "\n",
        "                self.scores_per_frame.append(scores.max().item()) # Сохраняем максимальную оценку детекции для текущего кадра\n",
        "            else:\n",
        "                detections = torch.zeros((1, 5))\n",
        "\n",
        "        # Остановка таймера и сохранение времени обработки\n",
        "        self.processing_times.append(time.time() - start_time)\n",
        "\n",
        "        return detections\n",
        "\n",
        "    def track(self, frame):\n",
        "        self.current_frame_number += 1 # Увеличение номера текущего кадра\n",
        "        bboxes_and_scores = self.detect(frame) # Получение результатов детекции на текущем кадре\n",
        "\n",
        "        if bboxes_and_scores.shape[0] == 0:\n",
        "            return [], []\n",
        "\n",
        "        # Обновление трекера с новыми детекциями\n",
        "        img_info = frame.shape[:2]\n",
        "        bboxes_and_scores = bboxes_and_scores.cpu().numpy()\n",
        "        online_targets = self.tracker.update(bboxes_and_scores, img_info, img_info)\n",
        "        tracked_bboxes = [track.tlwh for track in online_targets]\n",
        "        track_ids = [track.track_id for track in online_targets]\n",
        "\n",
        "        # Обновление информации о треках\n",
        "        for track_id in track_ids:\n",
        "            if track_id not in self.track_id_frames:\n",
        "                self.track_id_frames[track_id] = set()\n",
        "            self.track_id_frames[track_id].add(self.current_frame_number)\n",
        "\n",
        "        return tracked_bboxes, track_ids\n",
        "\n",
        "    def get_number_of_tracks(self):\n",
        "        # Возвращение количества треков\n",
        "        return len(self.track_id_frames)\n",
        "\n",
        "    def get_total_track_length(self):\n",
        "        # Возвращение суммарной длины трека\n",
        "        return sum(len(frames) for frames in self.track_id_frames.values())"
      ]
    },
    {
      "cell_type": "markdown",
      "metadata": {
        "id": "fXhcm0GkIf9W"
      },
      "source": [
        "# Отрисовка рамки"
      ]
    },
    {
      "cell_type": "code",
      "execution_count": null,
      "metadata": {
        "id": "8DfDN-OK60OA"
      },
      "outputs": [],
      "source": [
        "def draw_tracks(frame, tracked_bboxes, track_ids):\n",
        "    for bbox, track_id in zip(tracked_bboxes, track_ids):\n",
        "        x1, y1, w, h = [int(i) for i in bbox]\n",
        "        x2, y2 = x1 + w, y1 + h\n",
        "        cv2.rectangle(frame, (x1, y1), (x2, y2), (0, 255, 0), 2)\n",
        "        cv2.putText(frame, f'ID: {track_id}', (x1, y1 - 10), cv2.FONT_HERSHEY_SIMPLEX, 0.9, (255, 0, 0), 2)\n",
        "    return frame"
      ]
    },
    {
      "cell_type": "markdown",
      "metadata": {
        "id": "o74dr9F4IqF5"
      },
      "source": [
        "# Обработка видео"
      ]
    },
    {
      "cell_type": "code",
      "execution_count": null,
      "metadata": {
        "id": "NaGTj-Ya67T6"
      },
      "outputs": [],
      "source": [
        "def process_video(input_path, output_path, tracker):\n",
        "    cap = cv2.VideoCapture(input_path) # Открытие видеофайла для чтения\n",
        "    total_frames = int(cap.get(cv2.CAP_PROP_FRAME_COUNT)) # Получение общего количества кадров\n",
        "\n",
        "    # Инициализация кодека и видеофайла для записи\n",
        "    fourcc = cv2.VideoWriter_fourcc(*'mp4v')\n",
        "    out = cv2.VideoWriter(output_path, fourcc, 30.0, (int(cap.get(3)), int(cap.get(4))))\n",
        "\n",
        "    frame_count = 0  # Счетчик обработанных кадров\n",
        "\n",
        "    # Отображение прогресса обработки видео\n",
        "    with tqdm(total=total_frames, desc=\"Обработка видео\", unit=\"кадр\") as pbar:\n",
        "        while cap.isOpened():\n",
        "            # Чтение следующего кадра из видео\n",
        "            ret, frame = cap.read()\n",
        "            if not ret:\n",
        "                break\n",
        "\n",
        "            frame_count += 1\n",
        "            tracked_bboxes, track_ids = tracker.track(frame) # Выполнение трекинга объектов на текущем кадре\n",
        "            frame = draw_tracks(frame, tracked_bboxes, track_ids) # Отрисовка рамок и идентификаторов треков на кадре\n",
        "            out.write(frame) # Запись обработанного кадра в выходной видеофайл\n",
        "            pbar.update(1) # Обновление индикатора прогресса\n",
        "\n",
        "            if cv2.waitKey(1) & 0xFF == ord('q'):\n",
        "                break\n",
        "\n",
        "    # Освобождение ресурсов\n",
        "    cap.release()\n",
        "    out.release()\n",
        "    cv2.destroyAllWindows()\n",
        "\n",
        "    # Вычисление средней оценки детекций\n",
        "    avg_score = round(np.mean(tracker.scores_per_frame), 3) if tracker.scores_per_frame else 0\n",
        "\n",
        "    # Вычисление FPS количества кадров в секунду\n",
        "    fps = frame_count / (sum(tracker.processing_times) + 1e-6)\n",
        "\n",
        "    number_of_tracks = tracker.get_number_of_tracks() # Получение количества треков\n",
        "    total_track_length = tracker.get_total_track_length() # Получение суммарной длины трека\n",
        "\n",
        "    # Формирование строки с соотношением суммарной длины треков к общему количеству кадров\n",
        "    track_length_ratio = f\"{total_track_length}/{total_frames}\"\n",
        "\n",
        "    # Возврат результатов обработки видео\n",
        "    return [\n",
        "        tracker.model_name,\n",
        "        avg_score,\n",
        "        f\"{fps:.2f}\",\n",
        "        number_of_tracks,\n",
        "        track_length_ratio\n",
        "    ]"
      ]
    },
    {
      "cell_type": "markdown",
      "source": [
        "# Тесты"
      ],
      "metadata": {
        "id": "Jdxts45963Aw"
      }
    },
    {
      "cell_type": "markdown",
      "source": [
        "# Папка с входными видеоматериалами и результатами тестов\n",
        "https://drive.google.com/drive/folders/1mnk72wG1V98_XhoU73x23MU63oKKGC7M?usp=sharing"
      ],
      "metadata": {
        "id": "vANcTCKZ9OBh"
      }
    },
    {
      "cell_type": "markdown",
      "metadata": {
        "id": "wRHDjOOU76eA"
      },
      "source": [
        "# red_car_240x426.mp4\n"
      ]
    },
    {
      "cell_type": "code",
      "source": [
        "input_video = '/content/red_car_240x426.mp4'\n",
        "output_video = '/content/lite1_red_car_240x426.mp4'\n",
        "\n",
        "model_name = 'tf_efficientdet_lite1'\n",
        "weights_url = 'https://github.com/rwightman/efficientdet-pytorch/releases/download/v0.1/tf_efficientdet_lite1-6dc7ab30.pth'\n",
        "tracker = CarTracker(model_name, weights_url)\n",
        "\n",
        "results1 = process_video(input_video, output_video, tracker)\n",
        "table1 = [results1]\n",
        "\n",
        "# Создание таблицы с результатами\n",
        "headers = [\"Модель\", \"Средняя оценка детекций\",\"FPS\", \"Количество треков\", \"Суммарная длина трека в кадрах\"]\n",
        "print(\"\\n\" + tabulate(table1, headers, tablefmt=\"pretty\"))"
      ],
      "metadata": {
        "id": "pZY261XNRW2J",
        "colab": {
          "base_uri": "https://localhost:8080/"
        },
        "outputId": "bc0b7ea7-92d2-4f6d-8674-77441432a003"
      },
      "execution_count": null,
      "outputs": [
        {
          "output_type": "stream",
          "name": "stderr",
          "text": [
            "WARNING:timm.models._builder:Unexpected keys (bn2.bias, bn2.num_batches_tracked, bn2.running_mean, bn2.running_var, bn2.weight, classifier.bias, classifier.weight, conv_head.weight) found while loading pretrained weights. This may be expected if model is being adapted.\n",
            "Обработка видео: 100%|██████████| 215/215 [00:57<00:00,  3.71кадр/s]"
          ]
        },
        {
          "output_type": "stream",
          "name": "stdout",
          "text": [
            "\n",
            "+-----------------------+-------------------------+------+-------------------+--------------------------------+\n",
            "|        Модель         | Средняя оценка детекций | FPS  | Количество треков | Суммарная длина трека в кадрах |\n",
            "+-----------------------+-------------------------+------+-------------------+--------------------------------+\n",
            "| tf_efficientdet_lite1 |          0.609          | 3.79 |         1         |            175/215             |\n",
            "+-----------------------+-------------------------+------+-------------------+--------------------------------+\n"
          ]
        },
        {
          "output_type": "stream",
          "name": "stderr",
          "text": [
            "\n"
          ]
        }
      ]
    },
    {
      "cell_type": "code",
      "source": [
        "output_video = '/content/lite2_red_car_240x426.mp4'\n",
        "\n",
        "model_name = 'tf_efficientdet_lite2'\n",
        "weights_url = 'https://github.com/rwightman/efficientdet-pytorch/releases/download/v0.1/tf_efficientdet_lite2-86c5d55b.pth'\n",
        "tracker = CarTracker(model_name, weights_url)\n",
        "\n",
        "results2 = process_video(input_video, output_video, tracker)\n",
        "table2 = [results2]\n",
        "\n",
        "print(\"\\n\" + tabulate(table2, headers, tablefmt=\"pretty\"))"
      ],
      "metadata": {
        "colab": {
          "base_uri": "https://localhost:8080/"
        },
        "id": "nzzdHsMiLeKc",
        "outputId": "e60fe0e1-e4ca-4334-ed0a-118f5b7ba57a"
      },
      "execution_count": null,
      "outputs": [
        {
          "output_type": "stream",
          "name": "stderr",
          "text": [
            "WARNING:timm.models._builder:Unexpected keys (bn2.bias, bn2.num_batches_tracked, bn2.running_mean, bn2.running_var, bn2.weight, classifier.bias, classifier.weight, conv_head.weight) found while loading pretrained weights. This may be expected if model is being adapted.\n",
            "Обработка видео: 100%|██████████| 215/215 [01:28<00:00,  2.43кадр/s]"
          ]
        },
        {
          "output_type": "stream",
          "name": "stdout",
          "text": [
            "\n",
            "+-----------------------+-------------------------+------+-------------------+--------------------------------+\n",
            "|        Модель         | Средняя оценка детекций | FPS  | Количество треков | Суммарная длина трека в кадрах |\n",
            "+-----------------------+-------------------------+------+-------------------+--------------------------------+\n",
            "| tf_efficientdet_lite2 |          0.653          | 2.46 |         1         |            169/215             |\n",
            "+-----------------------+-------------------------+------+-------------------+--------------------------------+\n"
          ]
        },
        {
          "output_type": "stream",
          "name": "stderr",
          "text": [
            "\n"
          ]
        }
      ]
    },
    {
      "cell_type": "code",
      "source": [
        "output_video = '/content/lite3_red_car_240x426.mp4'\n",
        "\n",
        "model_name = 'tf_efficientdet_lite3'\n",
        "weights_url = 'https://github.com/rwightman/efficientdet-pytorch/releases/download/v0.1/tf_efficientdet_lite3-506852cb.pth'\n",
        "tracker = CarTracker(model_name, weights_url)\n",
        "\n",
        "results3 = process_video(input_video, output_video, tracker)\n",
        "table3 = [results3]\n",
        "\n",
        "print(\"\\n\" + tabulate(table3, headers, tablefmt=\"pretty\"))"
      ],
      "metadata": {
        "colab": {
          "base_uri": "https://localhost:8080/",
          "height": 248,
          "referenced_widgets": [
            "dc86b68c802e40758f4eeaeb600e7322",
            "b144d4154da941678cedcac51afa2d73",
            "a3ff8c7818ca45efb17282b3daa3ee5a",
            "1c1ec36ad96e4c928bb7f65dc113dac8",
            "bb5e4f70a21544249ae09c4646c1b091",
            "374135dc248546149a90c9a5f6cd1513",
            "16ff9359f37b486ab29162300f280275",
            "e98bc5da55084f8583ab79bfe52f9355",
            "215581bc7462431f93ea107bcdabf9ce",
            "7c0b64e8e4f44d73901d1ef505c71c33",
            "101c76e215dc43dbbf115499b7132819"
          ]
        },
        "id": "YIycBjREPiCr",
        "outputId": "5028eb42-7bb6-4073-99b8-51d80890ff81"
      },
      "execution_count": null,
      "outputs": [
        {
          "output_type": "display_data",
          "data": {
            "text/plain": [
              "model.safetensors:   0%|          | 0.00/33.1M [00:00<?, ?B/s]"
            ],
            "application/vnd.jupyter.widget-view+json": {
              "version_major": 2,
              "version_minor": 0,
              "model_id": "dc86b68c802e40758f4eeaeb600e7322"
            }
          },
          "metadata": {}
        },
        {
          "output_type": "stream",
          "name": "stderr",
          "text": [
            "WARNING:timm.models._builder:Unexpected keys (bn2.bias, bn2.num_batches_tracked, bn2.running_mean, bn2.running_var, bn2.weight, classifier.bias, classifier.weight, conv_head.weight) found while loading pretrained weights. This may be expected if model is being adapted.\n",
            "Downloading: \"https://github.com/rwightman/efficientdet-pytorch/releases/download/v0.1/tf_efficientdet_lite3-506852cb.pth\" to /root/.cache/torch/hub/checkpoints/tf_efficientdet_lite3-506852cb.pth\n",
            "100%|██████████| 32.4M/32.4M [00:01<00:00, 33.3MB/s]\n",
            "Обработка видео: 100%|██████████| 215/215 [02:56<00:00,  1.22кадр/s]"
          ]
        },
        {
          "output_type": "stream",
          "name": "stdout",
          "text": [
            "\n",
            "+-----------------------+-------------------------+------+-------------------+--------------------------------+\n",
            "|        Модель         | Средняя оценка детекций | FPS  | Количество треков | Суммарная длина трека в кадрах |\n",
            "+-----------------------+-------------------------+------+-------------------+--------------------------------+\n",
            "| tf_efficientdet_lite3 |          0.724          | 1.23 |         1         |            208/215             |\n",
            "+-----------------------+-------------------------+------+-------------------+--------------------------------+\n"
          ]
        },
        {
          "output_type": "stream",
          "name": "stderr",
          "text": [
            "\n"
          ]
        }
      ]
    },
    {
      "cell_type": "code",
      "source": [
        "output_video = '/content/lite3x_red_car_240x426.mp4'\n",
        "\n",
        "model_name = 'tf_efficientdet_lite3x'\n",
        "weights_url = 'https://github.com/rwightman/efficientdet-pytorch/releases/download/v0.1/tf_efficientdet_lite3x-8404c57b.pth'\n",
        "tracker = CarTracker(model_name, weights_url)\n",
        "\n",
        "results4 = process_video(input_video, output_video, tracker)\n",
        "table4 = [results4]\n",
        "\n",
        "print(\"\\n\" + tabulate(table4, headers, tablefmt=\"pretty\"))"
      ],
      "metadata": {
        "colab": {
          "base_uri": "https://localhost:8080/"
        },
        "id": "679uwuNUNBbT",
        "outputId": "371e3460-9601-4416-f5fc-e6c43b4cddbd"
      },
      "execution_count": null,
      "outputs": [
        {
          "output_type": "stream",
          "name": "stderr",
          "text": [
            "WARNING:timm.models._builder:Unexpected keys (bn2.bias, bn2.num_batches_tracked, bn2.running_mean, bn2.running_var, bn2.weight, classifier.bias, classifier.weight, conv_head.weight) found while loading pretrained weights. This may be expected if model is being adapted.\n",
            "Обработка видео: 100%|██████████| 215/215 [04:56<00:00,  1.38s/кадр]"
          ]
        },
        {
          "output_type": "stream",
          "name": "stdout",
          "text": [
            "\n",
            "+------------------------+-------------------------+------+-------------------+--------------------------------+\n",
            "|         Модель         | Средняя оценка детекций | FPS  | Количество треков | Суммарная длина трека в кадрах |\n",
            "+------------------------+-------------------------+------+-------------------+--------------------------------+\n",
            "| tf_efficientdet_lite3x |          0.745          | 0.73 |         1         |            214/215             |\n",
            "+------------------------+-------------------------+------+-------------------+--------------------------------+\n"
          ]
        },
        {
          "output_type": "stream",
          "name": "stderr",
          "text": [
            "\n"
          ]
        }
      ]
    },
    {
      "cell_type": "code",
      "source": [
        "table = []\n",
        "table.append(results1)\n",
        "table.append(results2)\n",
        "table.append(results3)\n",
        "\n",
        "print(tabulate(table, headers, tablefmt=\"pretty\"))"
      ],
      "metadata": {
        "colab": {
          "base_uri": "https://localhost:8080/"
        },
        "id": "pKNYUHI8MAj-",
        "outputId": "342a9a90-cc66-481f-9cf9-9862c45ac265"
      },
      "execution_count": null,
      "outputs": [
        {
          "output_type": "stream",
          "name": "stdout",
          "text": [
            "+-----------------------+-------------------------+------+-------------------+--------------------------------+\n",
            "|        Модель         | Средняя оценка детекций | FPS  | Количество треков | Суммарная длина трека в кадрах |\n",
            "+-----------------------+-------------------------+------+-------------------+--------------------------------+\n",
            "| tf_efficientdet_lite1 |          0.609          | 3.79 |         1         |            175/215             |\n",
            "| tf_efficientdet_lite2 |          0.653          | 2.46 |         1         |            169/215             |\n",
            "| tf_efficientdet_lite3 |          0.724          | 1.23 |         1         |            208/215             |\n",
            "+-----------------------+-------------------------+------+-------------------+--------------------------------+\n"
          ]
        }
      ]
    },
    {
      "cell_type": "markdown",
      "metadata": {
        "id": "RLOI96MREVz4"
      },
      "source": [
        "# black_car_240x426.mp4\n"
      ]
    },
    {
      "cell_type": "code",
      "source": [
        "input_video = '/content/black_car_240x426.mp4'\n",
        "output_video = '/content/lite1_black_car_240x426.mp4'\n",
        "\n",
        "model_name = 'tf_efficientdet_lite1'\n",
        "weights_url = 'https://github.com/rwightman/efficientdet-pytorch/releases/download/v0.1/tf_efficientdet_lite1-6dc7ab30.pth'\n",
        "tracker = CarTracker(model_name, weights_url)\n",
        "\n",
        "results1 = process_video(input_video, output_video, tracker)\n",
        "table1 = [results1]\n",
        "\n",
        "headers = [\"Модель\", \"Средняя оценка детекций\",\"FPS\", \"Количество треков\", \"Суммарная длина трека в кадрах\"]\n",
        "print(\"\\n\" + tabulate(table1, headers, tablefmt=\"pretty\"))"
      ],
      "metadata": {
        "colab": {
          "base_uri": "https://localhost:8080/"
        },
        "outputId": "26889a5c-c02a-4fbf-f35d-50889942fdd5",
        "id": "BQBo3ZsLEVz5"
      },
      "execution_count": null,
      "outputs": [
        {
          "output_type": "stream",
          "name": "stderr",
          "text": [
            "WARNING:timm.models._builder:Unexpected keys (bn2.bias, bn2.num_batches_tracked, bn2.running_mean, bn2.running_var, bn2.weight, classifier.bias, classifier.weight, conv_head.weight) found while loading pretrained weights. This may be expected if model is being adapted.\n",
            "Обработка видео: 100%|██████████| 452/452 [02:12<00:00,  3.40кадр/s]"
          ]
        },
        {
          "output_type": "stream",
          "name": "stdout",
          "text": [
            "\n",
            "+-----------------------+-------------------------+------+-------------------+--------------------------------+\n",
            "|        Модель         | Средняя оценка детекций | FPS  | Количество треков | Суммарная длина трека в кадрах |\n",
            "+-----------------------+-------------------------+------+-------------------+--------------------------------+\n",
            "| tf_efficientdet_lite1 |          0.605          | 3.46 |         1         |            169/452             |\n",
            "+-----------------------+-------------------------+------+-------------------+--------------------------------+\n"
          ]
        },
        {
          "output_type": "stream",
          "name": "stderr",
          "text": [
            "\n"
          ]
        }
      ]
    },
    {
      "cell_type": "code",
      "source": [
        "output_video = '/content/lite2_black_car_240x426.mp4'\n",
        "\n",
        "model_name = 'tf_efficientdet_lite2'\n",
        "weights_url = 'https://github.com/rwightman/efficientdet-pytorch/releases/download/v0.1/tf_efficientdet_lite2-86c5d55b.pth'\n",
        "tracker = CarTracker(model_name, weights_url)\n",
        "\n",
        "results2 = process_video(input_video, output_video, tracker)\n",
        "table2 = [results2]\n",
        "\n",
        "print(\"\\n\" + tabulate(table2, headers, tablefmt=\"pretty\"))"
      ],
      "metadata": {
        "colab": {
          "base_uri": "https://localhost:8080/"
        },
        "outputId": "1ded8b83-90cf-46ba-9d12-c48b290ea92b",
        "id": "5_0NtiqmEVz6"
      },
      "execution_count": null,
      "outputs": [
        {
          "output_type": "stream",
          "name": "stderr",
          "text": [
            "WARNING:timm.models._builder:Unexpected keys (bn2.bias, bn2.num_batches_tracked, bn2.running_mean, bn2.running_var, bn2.weight, classifier.bias, classifier.weight, conv_head.weight) found while loading pretrained weights. This may be expected if model is being adapted.\n",
            "Обработка видео: 100%|██████████| 452/452 [03:11<00:00,  2.36кадр/s]"
          ]
        },
        {
          "output_type": "stream",
          "name": "stdout",
          "text": [
            "\n",
            "+-----------------------+-------------------------+------+-------------------+--------------------------------+\n",
            "|        Модель         | Средняя оценка детекций | FPS  | Количество треков | Суммарная длина трека в кадрах |\n",
            "+-----------------------+-------------------------+------+-------------------+--------------------------------+\n",
            "| tf_efficientdet_lite2 |          0.716          | 2.38 |         1         |            162/452             |\n",
            "+-----------------------+-------------------------+------+-------------------+--------------------------------+\n"
          ]
        },
        {
          "output_type": "stream",
          "name": "stderr",
          "text": [
            "\n"
          ]
        }
      ]
    },
    {
      "cell_type": "code",
      "source": [
        "output_video = '/content/lite3_black_car_240x426.mp4'\n",
        "\n",
        "model_name = 'tf_efficientdet_lite3'\n",
        "weights_url = 'https://github.com/rwightman/efficientdet-pytorch/releases/download/v0.1/tf_efficientdet_lite3-506852cb.pth'\n",
        "tracker = CarTracker(model_name, weights_url)\n",
        "\n",
        "results3 = process_video(input_video, output_video, tracker)\n",
        "table3 = [results3]\n",
        "\n",
        "print(\"\\n\" + tabulate(table3, headers, tablefmt=\"pretty\"))"
      ],
      "metadata": {
        "colab": {
          "base_uri": "https://localhost:8080/"
        },
        "outputId": "7e802b0c-e5f2-4fe6-cf57-031f0fbbac3a",
        "id": "AooRb7fjEVz7"
      },
      "execution_count": null,
      "outputs": [
        {
          "output_type": "stream",
          "name": "stderr",
          "text": [
            "WARNING:timm.models._builder:Unexpected keys (bn2.bias, bn2.num_batches_tracked, bn2.running_mean, bn2.running_var, bn2.weight, classifier.bias, classifier.weight, conv_head.weight) found while loading pretrained weights. This may be expected if model is being adapted.\n",
            "Обработка видео: 100%|██████████| 452/452 [05:58<00:00,  1.26кадр/s]"
          ]
        },
        {
          "output_type": "stream",
          "name": "stdout",
          "text": [
            "\n",
            "+-----------------------+-------------------------+------+-------------------+--------------------------------+\n",
            "|        Модель         | Средняя оценка детекций | FPS  | Количество треков | Суммарная длина трека в кадрах |\n",
            "+-----------------------+-------------------------+------+-------------------+--------------------------------+\n",
            "| tf_efficientdet_lite3 |          0.797          | 1.27 |         1         |            350/452             |\n",
            "+-----------------------+-------------------------+------+-------------------+--------------------------------+\n"
          ]
        },
        {
          "output_type": "stream",
          "name": "stderr",
          "text": [
            "\n"
          ]
        }
      ]
    },
    {
      "cell_type": "code",
      "source": [
        "output_video = '/content/lite3x_black_car_240x426.mp4'\n",
        "\n",
        "model_name = 'tf_efficientdet_lite3x'\n",
        "weights_url = 'https://github.com/rwightman/efficientdet-pytorch/releases/download/v0.1/tf_efficientdet_lite3x-8404c57b.pth'\n",
        "tracker = CarTracker(model_name, weights_url)\n",
        "\n",
        "results4 = process_video(input_video, output_video, tracker)\n",
        "table4 = [results4]\n",
        "\n",
        "print(\"\\n\" + tabulate(table4, headers, tablefmt=\"pretty\"))"
      ],
      "metadata": {
        "id": "BxgrdadMNWGU",
        "colab": {
          "base_uri": "https://localhost:8080/"
        },
        "outputId": "8e9bf2d4-9131-4d59-c079-b832b61f7225"
      },
      "execution_count": null,
      "outputs": [
        {
          "output_type": "stream",
          "name": "stderr",
          "text": [
            "WARNING:timm.models._builder:Unexpected keys (bn2.bias, bn2.num_batches_tracked, bn2.running_mean, bn2.running_var, bn2.weight, classifier.bias, classifier.weight, conv_head.weight) found while loading pretrained weights. This may be expected if model is being adapted.\n",
            "Обработка видео: 100%|██████████| 452/452 [10:32<00:00,  1.40s/кадр]"
          ]
        },
        {
          "output_type": "stream",
          "name": "stdout",
          "text": [
            "\n",
            "+------------------------+-------------------------+------+-------------------+--------------------------------+\n",
            "|         Модель         | Средняя оценка детекций | FPS  | Количество треков | Суммарная длина трека в кадрах |\n",
            "+------------------------+-------------------------+------+-------------------+--------------------------------+\n",
            "| tf_efficientdet_lite3x |          0.802          | 0.72 |         1         |            452/452             |\n",
            "+------------------------+-------------------------+------+-------------------+--------------------------------+\n"
          ]
        },
        {
          "output_type": "stream",
          "name": "stderr",
          "text": [
            "\n"
          ]
        }
      ]
    },
    {
      "cell_type": "code",
      "source": [
        "table = []\n",
        "table.append(results1)\n",
        "table.append(results2)\n",
        "table.append(results3)\n",
        "\n",
        "print(tabulate(table, headers, tablefmt=\"pretty\"))"
      ],
      "metadata": {
        "colab": {
          "base_uri": "https://localhost:8080/"
        },
        "outputId": "a3e68acc-a919-4edc-b765-e44f8b75483e",
        "id": "ql_SbA2-EVz7"
      },
      "execution_count": null,
      "outputs": [
        {
          "output_type": "stream",
          "name": "stdout",
          "text": [
            "+-----------------------+-------------------------+------+-------------------+--------------------------------+\n",
            "|        Модель         | Средняя оценка детекций | FPS  | Количество треков | Суммарная длина трека в кадрах |\n",
            "+-----------------------+-------------------------+------+-------------------+--------------------------------+\n",
            "| tf_efficientdet_lite1 |          0.605          | 3.46 |         1         |            169/452             |\n",
            "| tf_efficientdet_lite2 |          0.716          | 2.38 |         1         |            162/452             |\n",
            "| tf_efficientdet_lite3 |          0.797          | 1.27 |         1         |            350/452             |\n",
            "+-----------------------+-------------------------+------+-------------------+--------------------------------+\n"
          ]
        }
      ]
    },
    {
      "cell_type": "markdown",
      "metadata": {
        "id": "W0liQEq2HSwW"
      },
      "source": [
        "# red_car_360x640.mp4\n"
      ]
    },
    {
      "cell_type": "code",
      "source": [
        "input_video = '/content/red_car_360x640.mp4'\n",
        "output_video = '/content/lite1_red_car_360x640.mp4'\n",
        "\n",
        "model_name = 'tf_efficientdet_lite1'\n",
        "weights_url = 'https://github.com/rwightman/efficientdet-pytorch/releases/download/v0.1/tf_efficientdet_lite1-6dc7ab30.pth'\n",
        "tracker = CarTracker(model_name, weights_url)\n",
        "\n",
        "results1 = process_video(input_video, output_video, tracker)\n",
        "table1 = [results1]\n",
        "\n",
        "headers = [\"Модель\", \"Средняя оценка детекций\",\"FPS\", \"Количество треков\", \"Суммарная длина трека в кадрах\"]\n",
        "print(\"\\n\" + tabulate(table1, headers, tablefmt=\"pretty\"))"
      ],
      "metadata": {
        "colab": {
          "base_uri": "https://localhost:8080/"
        },
        "outputId": "b0fb41c8-d2c4-4085-e180-8c0ef05f2643",
        "id": "8m0ZHOyVHSwX"
      },
      "execution_count": null,
      "outputs": [
        {
          "output_type": "stream",
          "name": "stderr",
          "text": [
            "WARNING:timm.models._builder:Unexpected keys (bn2.bias, bn2.num_batches_tracked, bn2.running_mean, bn2.running_var, bn2.weight, classifier.bias, classifier.weight, conv_head.weight) found while loading pretrained weights. This may be expected if model is being adapted.\n",
            "Обработка видео: 100%|██████████| 215/215 [00:56<00:00,  3.83кадр/s]"
          ]
        },
        {
          "output_type": "stream",
          "name": "stdout",
          "text": [
            "\n",
            "+-----------------------+-------------------------+------+-------------------+--------------------------------+\n",
            "|        Модель         | Средняя оценка детекций | FPS  | Количество треков | Суммарная длина трека в кадрах |\n",
            "+-----------------------+-------------------------+------+-------------------+--------------------------------+\n",
            "| tf_efficientdet_lite1 |          0.617          | 3.95 |         1         |            170/215             |\n",
            "+-----------------------+-------------------------+------+-------------------+--------------------------------+\n"
          ]
        },
        {
          "output_type": "stream",
          "name": "stderr",
          "text": [
            "\n"
          ]
        }
      ]
    },
    {
      "cell_type": "code",
      "source": [
        "output_video = '/content/lite2_red_car_360x640.mp4'\n",
        "\n",
        "model_name = 'tf_efficientdet_lite2'\n",
        "weights_url = 'https://github.com/rwightman/efficientdet-pytorch/releases/download/v0.1/tf_efficientdet_lite2-86c5d55b.pth'\n",
        "tracker = CarTracker(model_name, weights_url)\n",
        "\n",
        "results2 = process_video(input_video, output_video, tracker)\n",
        "table2 = [results2]\n",
        "\n",
        "print(\"\\n\" + tabulate(table2, headers, tablefmt=\"pretty\"))"
      ],
      "metadata": {
        "colab": {
          "base_uri": "https://localhost:8080/"
        },
        "outputId": "baf07dbb-2b6a-4e95-e526-82809d5d0141",
        "id": "Wpz5erc9HSwZ"
      },
      "execution_count": null,
      "outputs": [
        {
          "output_type": "stream",
          "name": "stderr",
          "text": [
            "WARNING:timm.models._builder:Unexpected keys (bn2.bias, bn2.num_batches_tracked, bn2.running_mean, bn2.running_var, bn2.weight, classifier.bias, classifier.weight, conv_head.weight) found while loading pretrained weights. This may be expected if model is being adapted.\n",
            "Обработка видео: 100%|██████████| 215/215 [01:33<00:00,  2.30кадр/s]"
          ]
        },
        {
          "output_type": "stream",
          "name": "stdout",
          "text": [
            "\n",
            "+-----------------------+-------------------------+------+-------------------+--------------------------------+\n",
            "|        Модель         | Средняя оценка детекций | FPS  | Количество треков | Суммарная длина трека в кадрах |\n",
            "+-----------------------+-------------------------+------+-------------------+--------------------------------+\n",
            "| tf_efficientdet_lite2 |          0.655          | 2.35 |         1         |            169/215             |\n",
            "+-----------------------+-------------------------+------+-------------------+--------------------------------+\n"
          ]
        },
        {
          "output_type": "stream",
          "name": "stderr",
          "text": [
            "\n"
          ]
        }
      ]
    },
    {
      "cell_type": "code",
      "source": [
        "output_video = '/content/lite3_red_car_360x640.mp4'\n",
        "\n",
        "model_name = 'tf_efficientdet_lite3'\n",
        "weights_url = 'https://github.com/rwightman/efficientdet-pytorch/releases/download/v0.1/tf_efficientdet_lite3-506852cb.pth'\n",
        "tracker = CarTracker(model_name, weights_url)\n",
        "\n",
        "results3 = process_video(input_video, output_video, tracker)\n",
        "table3 = [results3]\n",
        "\n",
        "print(\"\\n\" + tabulate(table3, headers, tablefmt=\"pretty\"))"
      ],
      "metadata": {
        "colab": {
          "base_uri": "https://localhost:8080/"
        },
        "outputId": "0e2ae4e3-c1b8-4267-8dc5-94245fe429cb",
        "id": "jlYpiTgKHSwa"
      },
      "execution_count": null,
      "outputs": [
        {
          "output_type": "stream",
          "name": "stderr",
          "text": [
            "WARNING:timm.models._builder:Unexpected keys (bn2.bias, bn2.num_batches_tracked, bn2.running_mean, bn2.running_var, bn2.weight, classifier.bias, classifier.weight, conv_head.weight) found while loading pretrained weights. This may be expected if model is being adapted.\n",
            "Обработка видео: 100%|██████████| 215/215 [03:04<00:00,  1.17кадр/s]"
          ]
        },
        {
          "output_type": "stream",
          "name": "stdout",
          "text": [
            "\n",
            "+-----------------------+-------------------------+------+-------------------+--------------------------------+\n",
            "|        Модель         | Средняя оценка детекций | FPS  | Количество треков | Суммарная длина трека в кадрах |\n",
            "+-----------------------+-------------------------+------+-------------------+--------------------------------+\n",
            "| tf_efficientdet_lite3 |          0.736          | 1.18 |         1         |            210/215             |\n",
            "+-----------------------+-------------------------+------+-------------------+--------------------------------+\n"
          ]
        },
        {
          "output_type": "stream",
          "name": "stderr",
          "text": [
            "\n"
          ]
        }
      ]
    },
    {
      "cell_type": "code",
      "source": [
        "output_video = '/content/lite3x_red_car_360x640.mp4'\n",
        "\n",
        "model_name = 'tf_efficientdet_lite3x'\n",
        "weights_url = 'https://github.com/rwightman/efficientdet-pytorch/releases/download/v0.1/tf_efficientdet_lite3x-8404c57b.pth'\n",
        "tracker = CarTracker(model_name, weights_url)\n",
        "\n",
        "results4 = process_video(input_video, output_video, tracker)\n",
        "table4 = [results4]\n",
        "\n",
        "print(\"\\n\" + tabulate(table4, headers, tablefmt=\"pretty\"))"
      ],
      "metadata": {
        "colab": {
          "base_uri": "https://localhost:8080/"
        },
        "id": "MLsJXV42KMm7",
        "outputId": "b7ba117b-3f68-4cf6-efc7-3dbba9687722"
      },
      "execution_count": null,
      "outputs": [
        {
          "output_type": "stream",
          "name": "stderr",
          "text": [
            "WARNING:timm.models._builder:Unexpected keys (bn2.bias, bn2.num_batches_tracked, bn2.running_mean, bn2.running_var, bn2.weight, classifier.bias, classifier.weight, conv_head.weight) found while loading pretrained weights. This may be expected if model is being adapted.\n",
            "Downloading: \"https://github.com/rwightman/efficientdet-pytorch/releases/download/v0.1/tf_efficientdet_lite3x-8404c57b.pth\" to /root/.cache/torch/hub/checkpoints/tf_efficientdet_lite3x-8404c57b.pth\n",
            "100%|██████████| 36.0M/36.0M [00:01<00:00, 35.5MB/s]\n",
            "Обработка видео: 100%|██████████| 215/215 [04:59<00:00,  1.39s/кадр]"
          ]
        },
        {
          "output_type": "stream",
          "name": "stdout",
          "text": [
            "\n",
            "+------------------------+-------------------------+------+-------------------+--------------------------------+\n",
            "|         Модель         | Средняя оценка детекций | FPS  | Количество треков | Суммарная длина трека в кадрах |\n",
            "+------------------------+-------------------------+------+-------------------+--------------------------------+\n",
            "| tf_efficientdet_lite3x |          0.755          | 0.72 |         1         |            215/215             |\n",
            "+------------------------+-------------------------+------+-------------------+--------------------------------+\n"
          ]
        },
        {
          "output_type": "stream",
          "name": "stderr",
          "text": [
            "\n"
          ]
        }
      ]
    },
    {
      "cell_type": "code",
      "source": [
        "output_video = '/content/lite4_red_car_360x640.mp4'\n",
        "\n",
        "model_name = 'tf_efficientdet_lite4'\n",
        "weights_url = 'https://github.com/rwightman/efficientdet-pytorch/releases/download/v0.1/tf_efficientdet_lite4-391ddabc.pth'\n",
        "tracker = CarTracker(model_name, weights_url)\n",
        "\n",
        "results5 = process_video(input_video, output_video, tracker)\n",
        "table5 = [results4]\n",
        "\n",
        "print(\"\\n\" + tabulate(table5, headers, tablefmt=\"pretty\"))"
      ],
      "metadata": {
        "id": "3ZQo0BhXKcoH"
      },
      "execution_count": null,
      "outputs": []
    },
    {
      "cell_type": "code",
      "source": [
        "table = []\n",
        "table.append(results1)\n",
        "table.append(results2)\n",
        "table.append(results3)\n",
        "table.append(results4)\n",
        "\n",
        "print(tabulate(table, headers, tablefmt=\"pretty\"))"
      ],
      "metadata": {
        "colab": {
          "base_uri": "https://localhost:8080/"
        },
        "id": "PDwupwYIL0Gm",
        "outputId": "4a0c34f0-930b-4b58-f0ee-f4f6362eb937"
      },
      "execution_count": null,
      "outputs": [
        {
          "output_type": "stream",
          "name": "stdout",
          "text": [
            "+------------------------+-------------------------+------+-------------------+--------------------------------+\n",
            "|         Модель         | Средняя оценка детекций | FPS  | Количество треков | Суммарная длина трека в кадрах |\n",
            "+------------------------+-------------------------+------+-------------------+--------------------------------+\n",
            "| tf_efficientdet_lite1  |          0.617          | 3.95 |         1         |            170/215             |\n",
            "| tf_efficientdet_lite2  |          0.655          | 2.35 |         1         |            169/215             |\n",
            "| tf_efficientdet_lite3  |          0.736          | 1.18 |         1         |            210/215             |\n",
            "| tf_efficientdet_lite3x |          0.755          | 0.72 |         1         |            215/215             |\n",
            "+------------------------+-------------------------+------+-------------------+--------------------------------+\n"
          ]
        }
      ]
    },
    {
      "cell_type": "markdown",
      "metadata": {
        "id": "pvG0UiI8JFdW"
      },
      "source": [
        "# black_car_360x640.mp4\n"
      ]
    },
    {
      "cell_type": "code",
      "source": [
        "input_video = '/content/black_car_360x640.mp4'\n",
        "output_video = '/content/lite1_black_car_360x640.mp4'\n",
        "\n",
        "model_name = 'tf_efficientdet_lite1'\n",
        "weights_url = 'https://github.com/rwightman/efficientdet-pytorch/releases/download/v0.1/tf_efficientdet_lite1-6dc7ab30.pth'\n",
        "tracker = CarTracker(model_name, weights_url)\n",
        "\n",
        "results1 = process_video(input_video, output_video, tracker)\n",
        "table1 = [results1]\n",
        "\n",
        "headers = [\"Модель\", \"Средняя оценка детекций\",\"FPS\", \"Количество треков\", \"Суммарная длина трека в кадрах\"]\n",
        "print(\"\\n\" + tabulate(table1, headers, tablefmt=\"pretty\"))"
      ],
      "metadata": {
        "colab": {
          "base_uri": "https://localhost:8080/"
        },
        "outputId": "62161776-db8e-4cbd-b69f-ef3f3c040bb7",
        "id": "naUrKxmYJFdX"
      },
      "execution_count": null,
      "outputs": [
        {
          "output_type": "stream",
          "name": "stderr",
          "text": [
            "WARNING:timm.models._builder:Unexpected keys (bn2.bias, bn2.num_batches_tracked, bn2.running_mean, bn2.running_var, bn2.weight, classifier.bias, classifier.weight, conv_head.weight) found while loading pretrained weights. This may be expected if model is being adapted.\n",
            "Обработка видео: 100%|██████████| 452/452 [01:52<00:00,  4.02кадр/s]"
          ]
        },
        {
          "output_type": "stream",
          "name": "stdout",
          "text": [
            "\n",
            "+-----------------------+-------------------------+------+-------------------+--------------------------------+\n",
            "|        Модель         | Средняя оценка детекций | FPS  | Количество треков | Суммарная длина трека в кадрах |\n",
            "+-----------------------+-------------------------+------+-------------------+--------------------------------+\n",
            "| tf_efficientdet_lite1 |          0.587          | 4.13 |         1         |            143/452             |\n",
            "+-----------------------+-------------------------+------+-------------------+--------------------------------+\n"
          ]
        },
        {
          "output_type": "stream",
          "name": "stderr",
          "text": [
            "\n"
          ]
        }
      ]
    },
    {
      "cell_type": "code",
      "source": [
        "output_video = '/content/lite2_black_car_360x640.mp4'\n",
        "\n",
        "model_name = 'tf_efficientdet_lite2'\n",
        "weights_url = 'https://github.com/rwightman/efficientdet-pytorch/releases/download/v0.1/tf_efficientdet_lite2-86c5d55b.pth'\n",
        "tracker = CarTracker(model_name, weights_url)\n",
        "\n",
        "results2 = process_video(input_video, output_video, tracker)\n",
        "table2 = [results2]\n",
        "\n",
        "print(\"\\n\" + tabulate(table2, headers, tablefmt=\"pretty\"))"
      ],
      "metadata": {
        "colab": {
          "base_uri": "https://localhost:8080/"
        },
        "outputId": "b48a3ead-72f7-45a2-9a81-cc288703f3cf",
        "id": "esN9OCI_JFdY"
      },
      "execution_count": null,
      "outputs": [
        {
          "output_type": "stream",
          "name": "stderr",
          "text": [
            "WARNING:timm.models._builder:Unexpected keys (bn2.bias, bn2.num_batches_tracked, bn2.running_mean, bn2.running_var, bn2.weight, classifier.bias, classifier.weight, conv_head.weight) found while loading pretrained weights. This may be expected if model is being adapted.\n",
            "Обработка видео: 100%|██████████| 452/452 [03:06<00:00,  2.43кадр/s]"
          ]
        },
        {
          "output_type": "stream",
          "name": "stdout",
          "text": [
            "\n",
            "+-----------------------+-------------------------+------+-------------------+--------------------------------+\n",
            "|        Модель         | Средняя оценка детекций | FPS  | Количество треков | Суммарная длина трека в кадрах |\n",
            "+-----------------------+-------------------------+------+-------------------+--------------------------------+\n",
            "| tf_efficientdet_lite2 |          0.724          | 2.47 |         1         |            146/452             |\n",
            "+-----------------------+-------------------------+------+-------------------+--------------------------------+\n"
          ]
        },
        {
          "output_type": "stream",
          "name": "stderr",
          "text": [
            "\n"
          ]
        }
      ]
    },
    {
      "cell_type": "code",
      "source": [
        "output_video = '/content/lite3_black_car_360x640.mp4'\n",
        "\n",
        "model_name = 'tf_efficientdet_lite3'\n",
        "weights_url = 'https://github.com/rwightman/efficientdet-pytorch/releases/download/v0.1/tf_efficientdet_lite3-506852cb.pth'\n",
        "tracker = CarTracker(model_name, weights_url)\n",
        "\n",
        "results3 = process_video(input_video, output_video, tracker)\n",
        "table3 = [results3]\n",
        "\n",
        "print(\"\\n\" + tabulate(table3, headers, tablefmt=\"pretty\"))"
      ],
      "metadata": {
        "colab": {
          "base_uri": "https://localhost:8080/"
        },
        "id": "8dGzgdLFJFdZ",
        "outputId": "635ba3f4-c429-49fc-f1d3-e68e5bd70dec"
      },
      "execution_count": null,
      "outputs": [
        {
          "output_type": "stream",
          "name": "stderr",
          "text": [
            "WARNING:timm.models._builder:Unexpected keys (bn2.bias, bn2.num_batches_tracked, bn2.running_mean, bn2.running_var, bn2.weight, classifier.bias, classifier.weight, conv_head.weight) found while loading pretrained weights. This may be expected if model is being adapted.\n",
            "Обработка видео: 100%|██████████| 452/452 [05:53<00:00,  1.28кадр/s]"
          ]
        },
        {
          "output_type": "stream",
          "name": "stdout",
          "text": [
            "\n",
            "+-----------------------+-------------------------+------+-------------------+--------------------------------+\n",
            "|        Модель         | Средняя оценка детекций | FPS  | Количество треков | Суммарная длина трека в кадрах |\n",
            "+-----------------------+-------------------------+------+-------------------+--------------------------------+\n",
            "| tf_efficientdet_lite3 |           0.8           | 1.29 |         1         |            394/452             |\n",
            "+-----------------------+-------------------------+------+-------------------+--------------------------------+\n"
          ]
        },
        {
          "output_type": "stream",
          "name": "stderr",
          "text": [
            "\n"
          ]
        }
      ]
    },
    {
      "cell_type": "code",
      "source": [
        "output_video = '/content/lite3x_black_car_360x640.mp4'\n",
        "\n",
        "model_name = 'tf_efficientdet_lite3x'\n",
        "weights_url = 'https://github.com/rwightman/efficientdet-pytorch/releases/download/v0.1/tf_efficientdet_lite3x-8404c57b.pth'\n",
        "tracker = CarTracker(model_name, weights_url)\n",
        "\n",
        "results4 = process_video(input_video, output_video, tracker)\n",
        "table4 = [results4]"
      ],
      "metadata": {
        "id": "OT8up1Q0MTox",
        "colab": {
          "base_uri": "https://localhost:8080/",
          "height": 410,
          "referenced_widgets": [
            "14a3e0b65e6346b48628c4567dcd1ad8",
            "30155383d87b4eccaa70194ebc658643",
            "e768c378d0a740cfb854740caf1c3cc8",
            "2d5fdadccc674745a42018fe8859b9bb",
            "6b6a029f08644fcaa674a1f66ccec88a",
            "8bcd5f3ef5ef46fda31c2057358bb310",
            "1d61344026fb4d8cbf8b0c927766b9b8",
            "884615614b3146b7ba809441c9482c8f",
            "d8adf8c3161344088aba483785607f78",
            "67d5af3a8723404a9a97075a88c2bca3",
            "9c506df82da24b7fb303dcc342c05353"
          ]
        },
        "outputId": "718378fa-5de1-4033-a78d-371af1462127",
        "collapsed": true
      },
      "execution_count": null,
      "outputs": [
        {
          "output_type": "stream",
          "name": "stderr",
          "text": [
            "/usr/local/lib/python3.10/dist-packages/huggingface_hub/utils/_token.py:89: UserWarning: \n",
            "The secret `HF_TOKEN` does not exist in your Colab secrets.\n",
            "To authenticate with the Hugging Face Hub, create a token in your settings tab (https://huggingface.co/settings/tokens), set it as secret in your Google Colab and restart your session.\n",
            "You will be able to reuse this secret in all of your notebooks.\n",
            "Please note that authentication is recommended but still optional to access public models or datasets.\n",
            "  warnings.warn(\n"
          ]
        },
        {
          "output_type": "display_data",
          "data": {
            "text/plain": [
              "model.safetensors:   0%|          | 0.00/33.1M [00:00<?, ?B/s]"
            ],
            "application/vnd.jupyter.widget-view+json": {
              "version_major": 2,
              "version_minor": 0,
              "model_id": "14a3e0b65e6346b48628c4567dcd1ad8"
            }
          },
          "metadata": {}
        },
        {
          "output_type": "stream",
          "name": "stderr",
          "text": [
            "WARNING:timm.models._builder:Unexpected keys (bn2.bias, bn2.num_batches_tracked, bn2.running_mean, bn2.running_var, bn2.weight, classifier.bias, classifier.weight, conv_head.weight) found while loading pretrained weights. This may be expected if model is being adapted.\n",
            "Downloading: \"https://github.com/rwightman/efficientdet-pytorch/releases/download/v0.1/tf_efficientdet_lite3x-8404c57b.pth\" to /root/.cache/torch/hub/checkpoints/tf_efficientdet_lite3x-8404c57b.pth\n",
            "100%|██████████| 36.0M/36.0M [00:00<00:00, 52.3MB/s]\n",
            "Обработка видео: 100%|██████████| 452/452 [10:10<00:00,  1.35s/кадр]\n"
          ]
        },
        {
          "output_type": "error",
          "ename": "NameError",
          "evalue": "name 'headers' is not defined",
          "traceback": [
            "\u001b[0;31m---------------------------------------------------------------------------\u001b[0m",
            "\u001b[0;31mNameError\u001b[0m                                 Traceback (most recent call last)",
            "\u001b[0;32m<ipython-input-6-37d775ae729e>\u001b[0m in \u001b[0;36m<cell line: 11>\u001b[0;34m()\u001b[0m\n\u001b[1;32m      9\u001b[0m \u001b[0mtable4\u001b[0m \u001b[0;34m=\u001b[0m \u001b[0;34m[\u001b[0m\u001b[0mresults4\u001b[0m\u001b[0;34m]\u001b[0m\u001b[0;34m\u001b[0m\u001b[0;34m\u001b[0m\u001b[0m\n\u001b[1;32m     10\u001b[0m \u001b[0;34m\u001b[0m\u001b[0m\n\u001b[0;32m---> 11\u001b[0;31m \u001b[0mprint\u001b[0m\u001b[0;34m(\u001b[0m\u001b[0;34m\"\\n\"\u001b[0m \u001b[0;34m+\u001b[0m \u001b[0mtabulate\u001b[0m\u001b[0;34m(\u001b[0m\u001b[0mtable4\u001b[0m\u001b[0;34m,\u001b[0m \u001b[0mheaders\u001b[0m\u001b[0;34m,\u001b[0m \u001b[0mtablefmt\u001b[0m\u001b[0;34m=\u001b[0m\u001b[0;34m\"pretty\"\u001b[0m\u001b[0;34m)\u001b[0m\u001b[0;34m)\u001b[0m\u001b[0;34m\u001b[0m\u001b[0;34m\u001b[0m\u001b[0m\n\u001b[0m",
            "\u001b[0;31mNameError\u001b[0m: name 'headers' is not defined"
          ]
        }
      ]
    },
    {
      "cell_type": "code",
      "source": [
        "headers = [\"Модель\", \"Средняя оценка детекций\",\"FPS\", \"Количество треков\", \"Суммарная длина трека в кадрах\"]\n",
        "print(\"\\n\" + tabulate(table4, headers, tablefmt=\"pretty\"))"
      ],
      "metadata": {
        "colab": {
          "base_uri": "https://localhost:8080/"
        },
        "id": "2cyAWS5mbE1E",
        "outputId": "ee2e7ed4-c188-451a-b961-90e7d9acae74"
      },
      "execution_count": null,
      "outputs": [
        {
          "output_type": "stream",
          "name": "stdout",
          "text": [
            "\n",
            "+------------------------+-------------------------+------+-------------------+--------------------------------+\n",
            "|         Модель         | Средняя оценка детекций | FPS  | Количество треков | Суммарная длина трека в кадрах |\n",
            "+------------------------+-------------------------+------+-------------------+--------------------------------+\n",
            "| tf_efficientdet_lite3x |          0.838          | 0.74 |         1         |            452/452             |\n",
            "+------------------------+-------------------------+------+-------------------+--------------------------------+\n"
          ]
        }
      ]
    },
    {
      "cell_type": "code",
      "source": [
        "table = []\n",
        "table.append(results1)\n",
        "table.append(results2)\n",
        "table.append(results3)\n",
        "\n",
        "print(tabulate(table, headers, tablefmt=\"pretty\"))"
      ],
      "metadata": {
        "colab": {
          "base_uri": "https://localhost:8080/"
        },
        "id": "i0q4T_rdJFdZ",
        "outputId": "fe911bc1-5d87-40b0-f6f7-cfbb6d7c73bc"
      },
      "execution_count": null,
      "outputs": [
        {
          "output_type": "stream",
          "name": "stdout",
          "text": [
            "+-----------------------+-------------------------+------+-------------------+--------------------------------+\n",
            "|        Модель         | Средняя оценка детекций | FPS  | Количество треков | Суммарная длина трека в кадрах |\n",
            "+-----------------------+-------------------------+------+-------------------+--------------------------------+\n",
            "| tf_efficientdet_lite1 |          0.587          | 4.13 |         1         |            143/452             |\n",
            "| tf_efficientdet_lite2 |          0.724          | 2.47 |         1         |            146/452             |\n",
            "| tf_efficientdet_lite3 |           0.8           | 1.29 |         1         |            394/452             |\n",
            "+-----------------------+-------------------------+------+-------------------+--------------------------------+\n"
          ]
        }
      ]
    },
    {
      "cell_type": "markdown",
      "source": [
        "# Использованные источники\n",
        "\n",
        "*   https://blog.roboflow.com/top-object-tracking-software/\n",
        "*   https://www.hitechbpo.com/blog/top-object-detection-models.php\n",
        "*   https://vc.ru/dev/656805-top-5-metodov-trekinga-obektov?ysclid=lysmi6hk4w673224911\n",
        "*   https://habr.com/ru/articles/503766/\n",
        "*   https://github.com/ifzhang/ByteTrack\n",
        "   *   https://arxiv.org/pdf/2110.06864\n",
        "*   https://github.com/rwightman/efficientdet-pytorch\n",
        "    *   https://arxiv.org/pdf/1911.09070\n",
        "*   https://medium.com/tech-blogs-by-nest-digital/object-tracking-object-detection-tracking-using-bytetrack-0aafe924d292\n",
        "*   https://www.ikomia.ai/blog/bytetrack-multi-object-tracking#:~:text=At%20its%20core%2C%20ByteTrack%20transcends%20traditional%20tracking%20methods,handling%20scenarios%20that%20would%20confound%20conventional%20tracking%20systems\n",
        "*   https://blog.roboflow.com/yolov3-versus-efficientdet-for-state-of-the-art-object-detection/\n",
        "*   https://medium.com/suitable-ryans-thoughts/yolov8-vs-efficientdet-a-deep-dive-into-the-future-of-real-time-object-detection-code-at-bottom-86513de2f69d\n",
        "\n"
      ],
      "metadata": {
        "id": "gLwsjEdG94pH"
      }
    }
  ],
  "metadata": {
    "colab": {
      "collapsed_sections": [
        "mTmiQ-S3Hpxf",
        "DtbumjhBH8dp",
        "GB4gdkfgIJc8",
        "fXhcm0GkIf9W",
        "o74dr9F4IqF5",
        "wRHDjOOU76eA",
        "RLOI96MREVz4",
        "W0liQEq2HSwW",
        "pvG0UiI8JFdW"
      ],
      "provenance": [],
      "gpuType": "T4"
    },
    "kernelspec": {
      "display_name": "Python 3",
      "name": "python3"
    },
    "language_info": {
      "name": "python"
    },
    "accelerator": "GPU",
    "widgets": {
      "application/vnd.jupyter.widget-state+json": {
        "dc86b68c802e40758f4eeaeb600e7322": {
          "model_module": "@jupyter-widgets/controls",
          "model_name": "HBoxModel",
          "model_module_version": "1.5.0",
          "state": {
            "_dom_classes": [],
            "_model_module": "@jupyter-widgets/controls",
            "_model_module_version": "1.5.0",
            "_model_name": "HBoxModel",
            "_view_count": null,
            "_view_module": "@jupyter-widgets/controls",
            "_view_module_version": "1.5.0",
            "_view_name": "HBoxView",
            "box_style": "",
            "children": [
              "IPY_MODEL_b144d4154da941678cedcac51afa2d73",
              "IPY_MODEL_a3ff8c7818ca45efb17282b3daa3ee5a",
              "IPY_MODEL_1c1ec36ad96e4c928bb7f65dc113dac8"
            ],
            "layout": "IPY_MODEL_bb5e4f70a21544249ae09c4646c1b091"
          }
        },
        "b144d4154da941678cedcac51afa2d73": {
          "model_module": "@jupyter-widgets/controls",
          "model_name": "HTMLModel",
          "model_module_version": "1.5.0",
          "state": {
            "_dom_classes": [],
            "_model_module": "@jupyter-widgets/controls",
            "_model_module_version": "1.5.0",
            "_model_name": "HTMLModel",
            "_view_count": null,
            "_view_module": "@jupyter-widgets/controls",
            "_view_module_version": "1.5.0",
            "_view_name": "HTMLView",
            "description": "",
            "description_tooltip": null,
            "layout": "IPY_MODEL_374135dc248546149a90c9a5f6cd1513",
            "placeholder": "​",
            "style": "IPY_MODEL_16ff9359f37b486ab29162300f280275",
            "value": "model.safetensors: 100%"
          }
        },
        "a3ff8c7818ca45efb17282b3daa3ee5a": {
          "model_module": "@jupyter-widgets/controls",
          "model_name": "FloatProgressModel",
          "model_module_version": "1.5.0",
          "state": {
            "_dom_classes": [],
            "_model_module": "@jupyter-widgets/controls",
            "_model_module_version": "1.5.0",
            "_model_name": "FloatProgressModel",
            "_view_count": null,
            "_view_module": "@jupyter-widgets/controls",
            "_view_module_version": "1.5.0",
            "_view_name": "ProgressView",
            "bar_style": "success",
            "description": "",
            "description_tooltip": null,
            "layout": "IPY_MODEL_e98bc5da55084f8583ab79bfe52f9355",
            "max": 33135226,
            "min": 0,
            "orientation": "horizontal",
            "style": "IPY_MODEL_215581bc7462431f93ea107bcdabf9ce",
            "value": 33135226
          }
        },
        "1c1ec36ad96e4c928bb7f65dc113dac8": {
          "model_module": "@jupyter-widgets/controls",
          "model_name": "HTMLModel",
          "model_module_version": "1.5.0",
          "state": {
            "_dom_classes": [],
            "_model_module": "@jupyter-widgets/controls",
            "_model_module_version": "1.5.0",
            "_model_name": "HTMLModel",
            "_view_count": null,
            "_view_module": "@jupyter-widgets/controls",
            "_view_module_version": "1.5.0",
            "_view_name": "HTMLView",
            "description": "",
            "description_tooltip": null,
            "layout": "IPY_MODEL_7c0b64e8e4f44d73901d1ef505c71c33",
            "placeholder": "​",
            "style": "IPY_MODEL_101c76e215dc43dbbf115499b7132819",
            "value": " 33.1M/33.1M [00:00&lt;00:00, 127MB/s]"
          }
        },
        "bb5e4f70a21544249ae09c4646c1b091": {
          "model_module": "@jupyter-widgets/base",
          "model_name": "LayoutModel",
          "model_module_version": "1.2.0",
          "state": {
            "_model_module": "@jupyter-widgets/base",
            "_model_module_version": "1.2.0",
            "_model_name": "LayoutModel",
            "_view_count": null,
            "_view_module": "@jupyter-widgets/base",
            "_view_module_version": "1.2.0",
            "_view_name": "LayoutView",
            "align_content": null,
            "align_items": null,
            "align_self": null,
            "border": null,
            "bottom": null,
            "display": null,
            "flex": null,
            "flex_flow": null,
            "grid_area": null,
            "grid_auto_columns": null,
            "grid_auto_flow": null,
            "grid_auto_rows": null,
            "grid_column": null,
            "grid_gap": null,
            "grid_row": null,
            "grid_template_areas": null,
            "grid_template_columns": null,
            "grid_template_rows": null,
            "height": null,
            "justify_content": null,
            "justify_items": null,
            "left": null,
            "margin": null,
            "max_height": null,
            "max_width": null,
            "min_height": null,
            "min_width": null,
            "object_fit": null,
            "object_position": null,
            "order": null,
            "overflow": null,
            "overflow_x": null,
            "overflow_y": null,
            "padding": null,
            "right": null,
            "top": null,
            "visibility": null,
            "width": null
          }
        },
        "374135dc248546149a90c9a5f6cd1513": {
          "model_module": "@jupyter-widgets/base",
          "model_name": "LayoutModel",
          "model_module_version": "1.2.0",
          "state": {
            "_model_module": "@jupyter-widgets/base",
            "_model_module_version": "1.2.0",
            "_model_name": "LayoutModel",
            "_view_count": null,
            "_view_module": "@jupyter-widgets/base",
            "_view_module_version": "1.2.0",
            "_view_name": "LayoutView",
            "align_content": null,
            "align_items": null,
            "align_self": null,
            "border": null,
            "bottom": null,
            "display": null,
            "flex": null,
            "flex_flow": null,
            "grid_area": null,
            "grid_auto_columns": null,
            "grid_auto_flow": null,
            "grid_auto_rows": null,
            "grid_column": null,
            "grid_gap": null,
            "grid_row": null,
            "grid_template_areas": null,
            "grid_template_columns": null,
            "grid_template_rows": null,
            "height": null,
            "justify_content": null,
            "justify_items": null,
            "left": null,
            "margin": null,
            "max_height": null,
            "max_width": null,
            "min_height": null,
            "min_width": null,
            "object_fit": null,
            "object_position": null,
            "order": null,
            "overflow": null,
            "overflow_x": null,
            "overflow_y": null,
            "padding": null,
            "right": null,
            "top": null,
            "visibility": null,
            "width": null
          }
        },
        "16ff9359f37b486ab29162300f280275": {
          "model_module": "@jupyter-widgets/controls",
          "model_name": "DescriptionStyleModel",
          "model_module_version": "1.5.0",
          "state": {
            "_model_module": "@jupyter-widgets/controls",
            "_model_module_version": "1.5.0",
            "_model_name": "DescriptionStyleModel",
            "_view_count": null,
            "_view_module": "@jupyter-widgets/base",
            "_view_module_version": "1.2.0",
            "_view_name": "StyleView",
            "description_width": ""
          }
        },
        "e98bc5da55084f8583ab79bfe52f9355": {
          "model_module": "@jupyter-widgets/base",
          "model_name": "LayoutModel",
          "model_module_version": "1.2.0",
          "state": {
            "_model_module": "@jupyter-widgets/base",
            "_model_module_version": "1.2.0",
            "_model_name": "LayoutModel",
            "_view_count": null,
            "_view_module": "@jupyter-widgets/base",
            "_view_module_version": "1.2.0",
            "_view_name": "LayoutView",
            "align_content": null,
            "align_items": null,
            "align_self": null,
            "border": null,
            "bottom": null,
            "display": null,
            "flex": null,
            "flex_flow": null,
            "grid_area": null,
            "grid_auto_columns": null,
            "grid_auto_flow": null,
            "grid_auto_rows": null,
            "grid_column": null,
            "grid_gap": null,
            "grid_row": null,
            "grid_template_areas": null,
            "grid_template_columns": null,
            "grid_template_rows": null,
            "height": null,
            "justify_content": null,
            "justify_items": null,
            "left": null,
            "margin": null,
            "max_height": null,
            "max_width": null,
            "min_height": null,
            "min_width": null,
            "object_fit": null,
            "object_position": null,
            "order": null,
            "overflow": null,
            "overflow_x": null,
            "overflow_y": null,
            "padding": null,
            "right": null,
            "top": null,
            "visibility": null,
            "width": null
          }
        },
        "215581bc7462431f93ea107bcdabf9ce": {
          "model_module": "@jupyter-widgets/controls",
          "model_name": "ProgressStyleModel",
          "model_module_version": "1.5.0",
          "state": {
            "_model_module": "@jupyter-widgets/controls",
            "_model_module_version": "1.5.0",
            "_model_name": "ProgressStyleModel",
            "_view_count": null,
            "_view_module": "@jupyter-widgets/base",
            "_view_module_version": "1.2.0",
            "_view_name": "StyleView",
            "bar_color": null,
            "description_width": ""
          }
        },
        "7c0b64e8e4f44d73901d1ef505c71c33": {
          "model_module": "@jupyter-widgets/base",
          "model_name": "LayoutModel",
          "model_module_version": "1.2.0",
          "state": {
            "_model_module": "@jupyter-widgets/base",
            "_model_module_version": "1.2.0",
            "_model_name": "LayoutModel",
            "_view_count": null,
            "_view_module": "@jupyter-widgets/base",
            "_view_module_version": "1.2.0",
            "_view_name": "LayoutView",
            "align_content": null,
            "align_items": null,
            "align_self": null,
            "border": null,
            "bottom": null,
            "display": null,
            "flex": null,
            "flex_flow": null,
            "grid_area": null,
            "grid_auto_columns": null,
            "grid_auto_flow": null,
            "grid_auto_rows": null,
            "grid_column": null,
            "grid_gap": null,
            "grid_row": null,
            "grid_template_areas": null,
            "grid_template_columns": null,
            "grid_template_rows": null,
            "height": null,
            "justify_content": null,
            "justify_items": null,
            "left": null,
            "margin": null,
            "max_height": null,
            "max_width": null,
            "min_height": null,
            "min_width": null,
            "object_fit": null,
            "object_position": null,
            "order": null,
            "overflow": null,
            "overflow_x": null,
            "overflow_y": null,
            "padding": null,
            "right": null,
            "top": null,
            "visibility": null,
            "width": null
          }
        },
        "101c76e215dc43dbbf115499b7132819": {
          "model_module": "@jupyter-widgets/controls",
          "model_name": "DescriptionStyleModel",
          "model_module_version": "1.5.0",
          "state": {
            "_model_module": "@jupyter-widgets/controls",
            "_model_module_version": "1.5.0",
            "_model_name": "DescriptionStyleModel",
            "_view_count": null,
            "_view_module": "@jupyter-widgets/base",
            "_view_module_version": "1.2.0",
            "_view_name": "StyleView",
            "description_width": ""
          }
        },
        "14a3e0b65e6346b48628c4567dcd1ad8": {
          "model_module": "@jupyter-widgets/controls",
          "model_name": "HBoxModel",
          "model_module_version": "1.5.0",
          "state": {
            "_dom_classes": [],
            "_model_module": "@jupyter-widgets/controls",
            "_model_module_version": "1.5.0",
            "_model_name": "HBoxModel",
            "_view_count": null,
            "_view_module": "@jupyter-widgets/controls",
            "_view_module_version": "1.5.0",
            "_view_name": "HBoxView",
            "box_style": "",
            "children": [
              "IPY_MODEL_30155383d87b4eccaa70194ebc658643",
              "IPY_MODEL_e768c378d0a740cfb854740caf1c3cc8",
              "IPY_MODEL_2d5fdadccc674745a42018fe8859b9bb"
            ],
            "layout": "IPY_MODEL_6b6a029f08644fcaa674a1f66ccec88a"
          }
        },
        "30155383d87b4eccaa70194ebc658643": {
          "model_module": "@jupyter-widgets/controls",
          "model_name": "HTMLModel",
          "model_module_version": "1.5.0",
          "state": {
            "_dom_classes": [],
            "_model_module": "@jupyter-widgets/controls",
            "_model_module_version": "1.5.0",
            "_model_name": "HTMLModel",
            "_view_count": null,
            "_view_module": "@jupyter-widgets/controls",
            "_view_module_version": "1.5.0",
            "_view_name": "HTMLView",
            "description": "",
            "description_tooltip": null,
            "layout": "IPY_MODEL_8bcd5f3ef5ef46fda31c2057358bb310",
            "placeholder": "​",
            "style": "IPY_MODEL_1d61344026fb4d8cbf8b0c927766b9b8",
            "value": "model.safetensors: 100%"
          }
        },
        "e768c378d0a740cfb854740caf1c3cc8": {
          "model_module": "@jupyter-widgets/controls",
          "model_name": "FloatProgressModel",
          "model_module_version": "1.5.0",
          "state": {
            "_dom_classes": [],
            "_model_module": "@jupyter-widgets/controls",
            "_model_module_version": "1.5.0",
            "_model_name": "FloatProgressModel",
            "_view_count": null,
            "_view_module": "@jupyter-widgets/controls",
            "_view_module_version": "1.5.0",
            "_view_name": "ProgressView",
            "bar_style": "success",
            "description": "",
            "description_tooltip": null,
            "layout": "IPY_MODEL_884615614b3146b7ba809441c9482c8f",
            "max": 33135226,
            "min": 0,
            "orientation": "horizontal",
            "style": "IPY_MODEL_d8adf8c3161344088aba483785607f78",
            "value": 33135226
          }
        },
        "2d5fdadccc674745a42018fe8859b9bb": {
          "model_module": "@jupyter-widgets/controls",
          "model_name": "HTMLModel",
          "model_module_version": "1.5.0",
          "state": {
            "_dom_classes": [],
            "_model_module": "@jupyter-widgets/controls",
            "_model_module_version": "1.5.0",
            "_model_name": "HTMLModel",
            "_view_count": null,
            "_view_module": "@jupyter-widgets/controls",
            "_view_module_version": "1.5.0",
            "_view_name": "HTMLView",
            "description": "",
            "description_tooltip": null,
            "layout": "IPY_MODEL_67d5af3a8723404a9a97075a88c2bca3",
            "placeholder": "​",
            "style": "IPY_MODEL_9c506df82da24b7fb303dcc342c05353",
            "value": " 33.1M/33.1M [00:00&lt;00:00, 68.3MB/s]"
          }
        },
        "6b6a029f08644fcaa674a1f66ccec88a": {
          "model_module": "@jupyter-widgets/base",
          "model_name": "LayoutModel",
          "model_module_version": "1.2.0",
          "state": {
            "_model_module": "@jupyter-widgets/base",
            "_model_module_version": "1.2.0",
            "_model_name": "LayoutModel",
            "_view_count": null,
            "_view_module": "@jupyter-widgets/base",
            "_view_module_version": "1.2.0",
            "_view_name": "LayoutView",
            "align_content": null,
            "align_items": null,
            "align_self": null,
            "border": null,
            "bottom": null,
            "display": null,
            "flex": null,
            "flex_flow": null,
            "grid_area": null,
            "grid_auto_columns": null,
            "grid_auto_flow": null,
            "grid_auto_rows": null,
            "grid_column": null,
            "grid_gap": null,
            "grid_row": null,
            "grid_template_areas": null,
            "grid_template_columns": null,
            "grid_template_rows": null,
            "height": null,
            "justify_content": null,
            "justify_items": null,
            "left": null,
            "margin": null,
            "max_height": null,
            "max_width": null,
            "min_height": null,
            "min_width": null,
            "object_fit": null,
            "object_position": null,
            "order": null,
            "overflow": null,
            "overflow_x": null,
            "overflow_y": null,
            "padding": null,
            "right": null,
            "top": null,
            "visibility": null,
            "width": null
          }
        },
        "8bcd5f3ef5ef46fda31c2057358bb310": {
          "model_module": "@jupyter-widgets/base",
          "model_name": "LayoutModel",
          "model_module_version": "1.2.0",
          "state": {
            "_model_module": "@jupyter-widgets/base",
            "_model_module_version": "1.2.0",
            "_model_name": "LayoutModel",
            "_view_count": null,
            "_view_module": "@jupyter-widgets/base",
            "_view_module_version": "1.2.0",
            "_view_name": "LayoutView",
            "align_content": null,
            "align_items": null,
            "align_self": null,
            "border": null,
            "bottom": null,
            "display": null,
            "flex": null,
            "flex_flow": null,
            "grid_area": null,
            "grid_auto_columns": null,
            "grid_auto_flow": null,
            "grid_auto_rows": null,
            "grid_column": null,
            "grid_gap": null,
            "grid_row": null,
            "grid_template_areas": null,
            "grid_template_columns": null,
            "grid_template_rows": null,
            "height": null,
            "justify_content": null,
            "justify_items": null,
            "left": null,
            "margin": null,
            "max_height": null,
            "max_width": null,
            "min_height": null,
            "min_width": null,
            "object_fit": null,
            "object_position": null,
            "order": null,
            "overflow": null,
            "overflow_x": null,
            "overflow_y": null,
            "padding": null,
            "right": null,
            "top": null,
            "visibility": null,
            "width": null
          }
        },
        "1d61344026fb4d8cbf8b0c927766b9b8": {
          "model_module": "@jupyter-widgets/controls",
          "model_name": "DescriptionStyleModel",
          "model_module_version": "1.5.0",
          "state": {
            "_model_module": "@jupyter-widgets/controls",
            "_model_module_version": "1.5.0",
            "_model_name": "DescriptionStyleModel",
            "_view_count": null,
            "_view_module": "@jupyter-widgets/base",
            "_view_module_version": "1.2.0",
            "_view_name": "StyleView",
            "description_width": ""
          }
        },
        "884615614b3146b7ba809441c9482c8f": {
          "model_module": "@jupyter-widgets/base",
          "model_name": "LayoutModel",
          "model_module_version": "1.2.0",
          "state": {
            "_model_module": "@jupyter-widgets/base",
            "_model_module_version": "1.2.0",
            "_model_name": "LayoutModel",
            "_view_count": null,
            "_view_module": "@jupyter-widgets/base",
            "_view_module_version": "1.2.0",
            "_view_name": "LayoutView",
            "align_content": null,
            "align_items": null,
            "align_self": null,
            "border": null,
            "bottom": null,
            "display": null,
            "flex": null,
            "flex_flow": null,
            "grid_area": null,
            "grid_auto_columns": null,
            "grid_auto_flow": null,
            "grid_auto_rows": null,
            "grid_column": null,
            "grid_gap": null,
            "grid_row": null,
            "grid_template_areas": null,
            "grid_template_columns": null,
            "grid_template_rows": null,
            "height": null,
            "justify_content": null,
            "justify_items": null,
            "left": null,
            "margin": null,
            "max_height": null,
            "max_width": null,
            "min_height": null,
            "min_width": null,
            "object_fit": null,
            "object_position": null,
            "order": null,
            "overflow": null,
            "overflow_x": null,
            "overflow_y": null,
            "padding": null,
            "right": null,
            "top": null,
            "visibility": null,
            "width": null
          }
        },
        "d8adf8c3161344088aba483785607f78": {
          "model_module": "@jupyter-widgets/controls",
          "model_name": "ProgressStyleModel",
          "model_module_version": "1.5.0",
          "state": {
            "_model_module": "@jupyter-widgets/controls",
            "_model_module_version": "1.5.0",
            "_model_name": "ProgressStyleModel",
            "_view_count": null,
            "_view_module": "@jupyter-widgets/base",
            "_view_module_version": "1.2.0",
            "_view_name": "StyleView",
            "bar_color": null,
            "description_width": ""
          }
        },
        "67d5af3a8723404a9a97075a88c2bca3": {
          "model_module": "@jupyter-widgets/base",
          "model_name": "LayoutModel",
          "model_module_version": "1.2.0",
          "state": {
            "_model_module": "@jupyter-widgets/base",
            "_model_module_version": "1.2.0",
            "_model_name": "LayoutModel",
            "_view_count": null,
            "_view_module": "@jupyter-widgets/base",
            "_view_module_version": "1.2.0",
            "_view_name": "LayoutView",
            "align_content": null,
            "align_items": null,
            "align_self": null,
            "border": null,
            "bottom": null,
            "display": null,
            "flex": null,
            "flex_flow": null,
            "grid_area": null,
            "grid_auto_columns": null,
            "grid_auto_flow": null,
            "grid_auto_rows": null,
            "grid_column": null,
            "grid_gap": null,
            "grid_row": null,
            "grid_template_areas": null,
            "grid_template_columns": null,
            "grid_template_rows": null,
            "height": null,
            "justify_content": null,
            "justify_items": null,
            "left": null,
            "margin": null,
            "max_height": null,
            "max_width": null,
            "min_height": null,
            "min_width": null,
            "object_fit": null,
            "object_position": null,
            "order": null,
            "overflow": null,
            "overflow_x": null,
            "overflow_y": null,
            "padding": null,
            "right": null,
            "top": null,
            "visibility": null,
            "width": null
          }
        },
        "9c506df82da24b7fb303dcc342c05353": {
          "model_module": "@jupyter-widgets/controls",
          "model_name": "DescriptionStyleModel",
          "model_module_version": "1.5.0",
          "state": {
            "_model_module": "@jupyter-widgets/controls",
            "_model_module_version": "1.5.0",
            "_model_name": "DescriptionStyleModel",
            "_view_count": null,
            "_view_module": "@jupyter-widgets/base",
            "_view_module_version": "1.2.0",
            "_view_name": "StyleView",
            "description_width": ""
          }
        }
      }
    }
  },
  "nbformat": 4,
  "nbformat_minor": 0
}